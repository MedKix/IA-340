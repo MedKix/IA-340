{
 "cells": [
  {
   "cell_type": "markdown",
   "id": "81a0a895-f937-4fdc-a22c-c85e52f13203",
   "metadata": {},
   "source": [
    "# Lab2 - lottery numbers "
   ]
  },
  {
   "cell_type": "markdown",
   "id": "82ceb15b-46a0-4ae3-b27b-76408216eee1",
   "metadata": {},
   "source": [
    "## Load data for lottery numbers s3"
   ]
  },
  {
   "cell_type": "code",
   "execution_count": 58,
   "id": "45dead78-5640-4c95-93a5-9fa103193c2c",
   "metadata": {},
   "outputs": [
    {
     "data": {
      "text/html": [
       "<div>\n",
       "<style scoped>\n",
       "    .dataframe tbody tr th:only-of-type {\n",
       "        vertical-align: middle;\n",
       "    }\n",
       "\n",
       "    .dataframe tbody tr th {\n",
       "        vertical-align: top;\n",
       "    }\n",
       "\n",
       "    .dataframe thead th {\n",
       "        text-align: right;\n",
       "    }\n",
       "</style>\n",
       "<table border=\"1\" class=\"dataframe\">\n",
       "  <thead>\n",
       "    <tr style=\"text-align: right;\">\n",
       "      <th></th>\n",
       "      <th>Draw Date</th>\n",
       "      <th>Winning Numbers</th>\n",
       "      <th>Multiplier</th>\n",
       "    </tr>\n",
       "  </thead>\n",
       "  <tbody>\n",
       "    <tr>\n",
       "      <th>0</th>\n",
       "      <td>09/26/2020</td>\n",
       "      <td>11 21 27 36 62 24</td>\n",
       "      <td>3.0</td>\n",
       "    </tr>\n",
       "    <tr>\n",
       "      <th>1</th>\n",
       "      <td>09/30/2020</td>\n",
       "      <td>14 18 36 49 67 18</td>\n",
       "      <td>2.0</td>\n",
       "    </tr>\n",
       "    <tr>\n",
       "      <th>2</th>\n",
       "      <td>10/03/2020</td>\n",
       "      <td>18 31 36 43 47 20</td>\n",
       "      <td>2.0</td>\n",
       "    </tr>\n",
       "    <tr>\n",
       "      <th>3</th>\n",
       "      <td>10/07/2020</td>\n",
       "      <td>06 24 30 53 56 19</td>\n",
       "      <td>2.0</td>\n",
       "    </tr>\n",
       "    <tr>\n",
       "      <th>4</th>\n",
       "      <td>10/10/2020</td>\n",
       "      <td>05 18 23 40 50 18</td>\n",
       "      <td>3.0</td>\n",
       "    </tr>\n",
       "  </tbody>\n",
       "</table>\n",
       "</div>"
      ],
      "text/plain": [
       "    Draw Date    Winning Numbers  Multiplier\n",
       "0  09/26/2020  11 21 27 36 62 24         3.0\n",
       "1  09/30/2020  14 18 36 49 67 18         2.0\n",
       "2  10/03/2020  18 31 36 43 47 20         2.0\n",
       "3  10/07/2020  06 24 30 53 56 19         2.0\n",
       "4  10/10/2020  05 18 23 40 50 18         3.0"
      ]
     },
     "execution_count": 58,
     "metadata": {},
     "output_type": "execute_result"
    }
   ],
   "source": [
    "import warnings\n",
    "warnings.simplefilter('ignore')\n",
    "\n",
    "import pandas as pd\n",
    "\n",
    "df= pd.read_csv('s3://ia340-fall-2025-e115/Lottery_Powerball_Winning_Numbers__Beginning_2010.csv') # load the data from s3\n",
    "df.head() # show the top 5 rows # putting a number in the () shows that number of top rows"
   ]
  },
  {
   "cell_type": "code",
   "execution_count": 59,
   "id": "b1003052-fe1a-4d46-9947-0d1301451084",
   "metadata": {},
   "outputs": [
    {
     "data": {
      "text/html": [
       "<div>\n",
       "<style scoped>\n",
       "    .dataframe tbody tr th:only-of-type {\n",
       "        vertical-align: middle;\n",
       "    }\n",
       "\n",
       "    .dataframe tbody tr th {\n",
       "        vertical-align: top;\n",
       "    }\n",
       "\n",
       "    .dataframe thead th {\n",
       "        text-align: right;\n",
       "    }\n",
       "</style>\n",
       "<table border=\"1\" class=\"dataframe\">\n",
       "  <thead>\n",
       "    <tr style=\"text-align: right;\">\n",
       "      <th></th>\n",
       "      <th>Draw Date</th>\n",
       "      <th>Winning Numbers</th>\n",
       "      <th>Multiplier</th>\n",
       "    </tr>\n",
       "  </thead>\n",
       "  <tbody>\n",
       "    <tr>\n",
       "      <th>1822</th>\n",
       "      <td>08/13/2025</td>\n",
       "      <td>04 11 40 44 50 04</td>\n",
       "      <td>3.0</td>\n",
       "    </tr>\n",
       "    <tr>\n",
       "      <th>1823</th>\n",
       "      <td>08/16/2025</td>\n",
       "      <td>23 40 49 65 69 23</td>\n",
       "      <td>3.0</td>\n",
       "    </tr>\n",
       "    <tr>\n",
       "      <th>1824</th>\n",
       "      <td>08/18/2025</td>\n",
       "      <td>15 46 61 63 64 01</td>\n",
       "      <td>3.0</td>\n",
       "    </tr>\n",
       "    <tr>\n",
       "      <th>1825</th>\n",
       "      <td>08/20/2025</td>\n",
       "      <td>31 59 62 65 68 05</td>\n",
       "      <td>2.0</td>\n",
       "    </tr>\n",
       "    <tr>\n",
       "      <th>1826</th>\n",
       "      <td>08/23/2025</td>\n",
       "      <td>11 14 34 47 51 18</td>\n",
       "      <td>2.0</td>\n",
       "    </tr>\n",
       "  </tbody>\n",
       "</table>\n",
       "</div>"
      ],
      "text/plain": [
       "       Draw Date    Winning Numbers  Multiplier\n",
       "1822  08/13/2025  04 11 40 44 50 04         3.0\n",
       "1823  08/16/2025  23 40 49 65 69 23         3.0\n",
       "1824  08/18/2025  15 46 61 63 64 01         3.0\n",
       "1825  08/20/2025  31 59 62 65 68 05         2.0\n",
       "1826  08/23/2025  11 14 34 47 51 18         2.0"
      ]
     },
     "execution_count": 59,
     "metadata": {},
     "output_type": "execute_result"
    }
   ],
   "source": [
    "df.tail() # show bottom 5 rows"
   ]
  },
  {
   "cell_type": "code",
   "execution_count": 60,
   "id": "4c7102cd-6e7c-4775-af30-a8f3c551e204",
   "metadata": {},
   "outputs": [
    {
     "data": {
      "text/plain": [
       "0       3.0\n",
       "1       2.0\n",
       "2       2.0\n",
       "3       2.0\n",
       "4       3.0\n",
       "       ... \n",
       "1822    3.0\n",
       "1823    3.0\n",
       "1824    3.0\n",
       "1825    2.0\n",
       "1826    2.0\n",
       "Name: Multiplier, Length: 1827, dtype: float64"
      ]
     },
     "execution_count": 60,
     "metadata": {},
     "output_type": "execute_result"
    }
   ],
   "source": [
    "df['Multiplier'] #show the number of rows and columns "
   ]
  },
  {
   "cell_type": "code",
   "execution_count": 61,
   "id": "8dc9fe21-a934-49ac-b151-d901ec98c3ad",
   "metadata": {},
   "outputs": [
    {
     "data": {
      "text/html": [
       "<div>\n",
       "<style scoped>\n",
       "    .dataframe tbody tr th:only-of-type {\n",
       "        vertical-align: middle;\n",
       "    }\n",
       "\n",
       "    .dataframe tbody tr th {\n",
       "        vertical-align: top;\n",
       "    }\n",
       "\n",
       "    .dataframe thead th {\n",
       "        text-align: right;\n",
       "    }\n",
       "</style>\n",
       "<table border=\"1\" class=\"dataframe\">\n",
       "  <thead>\n",
       "    <tr style=\"text-align: right;\">\n",
       "      <th></th>\n",
       "      <th>Draw Date</th>\n",
       "      <th>Winning Numbers</th>\n",
       "      <th>Multiplier</th>\n",
       "    </tr>\n",
       "  </thead>\n",
       "  <tbody>\n",
       "    <tr>\n",
       "      <th>1074</th>\n",
       "      <td>01/01/2011</td>\n",
       "      <td>18 22 37 47 54 36</td>\n",
       "      <td>2.0</td>\n",
       "    </tr>\n",
       "    <tr>\n",
       "      <th>761</th>\n",
       "      <td>01/01/2014</td>\n",
       "      <td>15 24 40 48 52 23</td>\n",
       "      <td>NaN</td>\n",
       "    </tr>\n",
       "    <tr>\n",
       "      <th>137</th>\n",
       "      <td>01/01/2020</td>\n",
       "      <td>49 53 57 59 62 26</td>\n",
       "      <td>2.0</td>\n",
       "    </tr>\n",
       "    <tr>\n",
       "      <th>1258</th>\n",
       "      <td>01/01/2022</td>\n",
       "      <td>06 12 39 48 50 07</td>\n",
       "      <td>2.0</td>\n",
       "    </tr>\n",
       "    <tr>\n",
       "      <th>1569</th>\n",
       "      <td>01/01/2024</td>\n",
       "      <td>12 21 42 44 49 01</td>\n",
       "      <td>3.0</td>\n",
       "    </tr>\n",
       "    <tr>\n",
       "      <th>...</th>\n",
       "      <td>...</td>\n",
       "      <td>...</td>\n",
       "      <td>...</td>\n",
       "    </tr>\n",
       "    <tr>\n",
       "      <th>1725</th>\n",
       "      <td>12/30/2024</td>\n",
       "      <td>09 19 33 38 39 01</td>\n",
       "      <td>3.0</td>\n",
       "    </tr>\n",
       "    <tr>\n",
       "      <th>970</th>\n",
       "      <td>12/31/2011</td>\n",
       "      <td>05 23 25 28 40 34</td>\n",
       "      <td>4.0</td>\n",
       "    </tr>\n",
       "    <tr>\n",
       "      <th>658</th>\n",
       "      <td>12/31/2014</td>\n",
       "      <td>17 27 37 40 53 35</td>\n",
       "      <td>2.0</td>\n",
       "    </tr>\n",
       "    <tr>\n",
       "      <th>449</th>\n",
       "      <td>12/31/2016</td>\n",
       "      <td>01 03 28 57 67 09</td>\n",
       "      <td>2.0</td>\n",
       "    </tr>\n",
       "    <tr>\n",
       "      <th>1411</th>\n",
       "      <td>12/31/2022</td>\n",
       "      <td>18 37 44 50 64 11</td>\n",
       "      <td>3.0</td>\n",
       "    </tr>\n",
       "  </tbody>\n",
       "</table>\n",
       "<p>1827 rows × 3 columns</p>\n",
       "</div>"
      ],
      "text/plain": [
       "       Draw Date    Winning Numbers  Multiplier\n",
       "1074  01/01/2011  18 22 37 47 54 36         2.0\n",
       "761   01/01/2014  15 24 40 48 52 23         NaN\n",
       "137   01/01/2020  49 53 57 59 62 26         2.0\n",
       "1258  01/01/2022  06 12 39 48 50 07         2.0\n",
       "1569  01/01/2024  12 21 42 44 49 01         3.0\n",
       "...          ...                ...         ...\n",
       "1725  12/30/2024  09 19 33 38 39 01         3.0\n",
       "970   12/31/2011  05 23 25 28 40 34         4.0\n",
       "658   12/31/2014  17 27 37 40 53 35         2.0\n",
       "449   12/31/2016  01 03 28 57 67 09         2.0\n",
       "1411  12/31/2022  18 37 44 50 64 11         3.0\n",
       "\n",
       "[1827 rows x 3 columns]"
      ]
     },
     "execution_count": 61,
     "metadata": {},
     "output_type": "execute_result"
    }
   ],
   "source": [
    "df.sort_values(by='Draw Date') # Sort data by a column "
   ]
  },
  {
   "cell_type": "code",
   "execution_count": 62,
   "id": "551511ba-76c0-4b34-8ed2-05c1263d5b09",
   "metadata": {},
   "outputs": [
    {
     "data": {
      "text/html": [
       "<div>\n",
       "<style scoped>\n",
       "    .dataframe tbody tr th:only-of-type {\n",
       "        vertical-align: middle;\n",
       "    }\n",
       "\n",
       "    .dataframe tbody tr th {\n",
       "        vertical-align: top;\n",
       "    }\n",
       "\n",
       "    .dataframe thead th {\n",
       "        text-align: right;\n",
       "    }\n",
       "</style>\n",
       "<table border=\"1\" class=\"dataframe\">\n",
       "  <thead>\n",
       "    <tr style=\"text-align: right;\">\n",
       "      <th></th>\n",
       "      <th>Draw Date</th>\n",
       "      <th>Winning Numbers</th>\n",
       "      <th>Multiplier</th>\n",
       "    </tr>\n",
       "  </thead>\n",
       "  <tbody>\n",
       "    <tr>\n",
       "      <th>0</th>\n",
       "      <td>09/26/2020</td>\n",
       "      <td>11 21 27 36 62 24</td>\n",
       "      <td>3.0</td>\n",
       "    </tr>\n",
       "    <tr>\n",
       "      <th>1</th>\n",
       "      <td>09/30/2020</td>\n",
       "      <td>14 18 36 49 67 18</td>\n",
       "      <td>2.0</td>\n",
       "    </tr>\n",
       "    <tr>\n",
       "      <th>2</th>\n",
       "      <td>10/03/2020</td>\n",
       "      <td>18 31 36 43 47 20</td>\n",
       "      <td>2.0</td>\n",
       "    </tr>\n",
       "    <tr>\n",
       "      <th>3</th>\n",
       "      <td>10/07/2020</td>\n",
       "      <td>06 24 30 53 56 19</td>\n",
       "      <td>2.0</td>\n",
       "    </tr>\n",
       "    <tr>\n",
       "      <th>4</th>\n",
       "      <td>10/10/2020</td>\n",
       "      <td>05 18 23 40 50 18</td>\n",
       "      <td>3.0</td>\n",
       "    </tr>\n",
       "  </tbody>\n",
       "</table>\n",
       "</div>"
      ],
      "text/plain": [
       "    Draw Date    Winning Numbers  Multiplier\n",
       "0  09/26/2020  11 21 27 36 62 24         3.0\n",
       "1  09/30/2020  14 18 36 49 67 18         2.0\n",
       "2  10/03/2020  18 31 36 43 47 20         2.0\n",
       "3  10/07/2020  06 24 30 53 56 19         2.0\n",
       "4  10/10/2020  05 18 23 40 50 18         3.0"
      ]
     },
     "execution_count": 62,
     "metadata": {},
     "output_type": "execute_result"
    }
   ],
   "source": [
    "df[0:5] #slice by row "
   ]
  },
  {
   "cell_type": "raw",
   "id": "d4eb4692-21bf-43ad-82b1-4fe2cb5f47ab",
   "metadata": {},
   "source": [
    "df[df['Multiplier']>1] # "
   ]
  },
  {
   "cell_type": "code",
   "execution_count": 63,
   "id": "a4cc6dbf-01f5-4aae-9e14-27f420a51ef5",
   "metadata": {},
   "outputs": [
    {
     "data": {
      "text/html": [
       "<div>\n",
       "<style scoped>\n",
       "    .dataframe tbody tr th:only-of-type {\n",
       "        vertical-align: middle;\n",
       "    }\n",
       "\n",
       "    .dataframe tbody tr th {\n",
       "        vertical-align: top;\n",
       "    }\n",
       "\n",
       "    .dataframe thead th {\n",
       "        text-align: right;\n",
       "    }\n",
       "</style>\n",
       "<table border=\"1\" class=\"dataframe\">\n",
       "  <thead>\n",
       "    <tr style=\"text-align: right;\">\n",
       "      <th></th>\n",
       "      <th>Draw Date</th>\n",
       "      <th>Winning Numbers</th>\n",
       "      <th>Multiplier</th>\n",
       "    </tr>\n",
       "  </thead>\n",
       "  <tbody>\n",
       "    <tr>\n",
       "      <th>0</th>\n",
       "      <td>09/26/2020</td>\n",
       "      <td>11 21 27 36 62 24</td>\n",
       "      <td>3.0</td>\n",
       "    </tr>\n",
       "    <tr>\n",
       "      <th>1</th>\n",
       "      <td>09/30/2020</td>\n",
       "      <td>14 18 36 49 67 18</td>\n",
       "      <td>2.0</td>\n",
       "    </tr>\n",
       "    <tr>\n",
       "      <th>2</th>\n",
       "      <td>10/03/2020</td>\n",
       "      <td>18 31 36 43 47 20</td>\n",
       "      <td>2.0</td>\n",
       "    </tr>\n",
       "    <tr>\n",
       "      <th>3</th>\n",
       "      <td>10/07/2020</td>\n",
       "      <td>06 24 30 53 56 19</td>\n",
       "      <td>2.0</td>\n",
       "    </tr>\n",
       "    <tr>\n",
       "      <th>4</th>\n",
       "      <td>10/10/2020</td>\n",
       "      <td>05 18 23 40 50 18</td>\n",
       "      <td>3.0</td>\n",
       "    </tr>\n",
       "    <tr>\n",
       "      <th>...</th>\n",
       "      <td>...</td>\n",
       "      <td>...</td>\n",
       "      <td>...</td>\n",
       "    </tr>\n",
       "    <tr>\n",
       "      <th>1822</th>\n",
       "      <td>08/13/2025</td>\n",
       "      <td>04 11 40 44 50 04</td>\n",
       "      <td>3.0</td>\n",
       "    </tr>\n",
       "    <tr>\n",
       "      <th>1823</th>\n",
       "      <td>08/16/2025</td>\n",
       "      <td>23 40 49 65 69 23</td>\n",
       "      <td>3.0</td>\n",
       "    </tr>\n",
       "    <tr>\n",
       "      <th>1824</th>\n",
       "      <td>08/18/2025</td>\n",
       "      <td>15 46 61 63 64 01</td>\n",
       "      <td>3.0</td>\n",
       "    </tr>\n",
       "    <tr>\n",
       "      <th>1825</th>\n",
       "      <td>08/20/2025</td>\n",
       "      <td>31 59 62 65 68 05</td>\n",
       "      <td>2.0</td>\n",
       "    </tr>\n",
       "    <tr>\n",
       "      <th>1826</th>\n",
       "      <td>08/23/2025</td>\n",
       "      <td>11 14 34 47 51 18</td>\n",
       "      <td>2.0</td>\n",
       "    </tr>\n",
       "  </tbody>\n",
       "</table>\n",
       "<p>1617 rows × 3 columns</p>\n",
       "</div>"
      ],
      "text/plain": [
       "       Draw Date    Winning Numbers  Multiplier\n",
       "0     09/26/2020  11 21 27 36 62 24         3.0\n",
       "1     09/30/2020  14 18 36 49 67 18         2.0\n",
       "2     10/03/2020  18 31 36 43 47 20         2.0\n",
       "3     10/07/2020  06 24 30 53 56 19         2.0\n",
       "4     10/10/2020  05 18 23 40 50 18         3.0\n",
       "...          ...                ...         ...\n",
       "1822  08/13/2025  04 11 40 44 50 04         3.0\n",
       "1823  08/16/2025  23 40 49 65 69 23         3.0\n",
       "1824  08/18/2025  15 46 61 63 64 01         3.0\n",
       "1825  08/20/2025  31 59 62 65 68 05         2.0\n",
       "1826  08/23/2025  11 14 34 47 51 18         2.0\n",
       "\n",
       "[1617 rows x 3 columns]"
      ]
     },
     "execution_count": 63,
     "metadata": {},
     "output_type": "execute_result"
    }
   ],
   "source": [
    "df[df['Multiplier']>1] # select rows by values "
   ]
  },
  {
   "cell_type": "markdown",
   "id": "a1438cf9-243d-4cba-bb83-5068db16dd9a",
   "metadata": {},
   "source": [
    "# View the Data "
   ]
  },
  {
   "cell_type": "code",
   "execution_count": 64,
   "id": "c8d3b4db-bb18-4476-89be-b53183ad7d0a",
   "metadata": {},
   "outputs": [
    {
     "data": {
      "text/html": [
       "<div>\n",
       "<style scoped>\n",
       "    .dataframe tbody tr th:only-of-type {\n",
       "        vertical-align: middle;\n",
       "    }\n",
       "\n",
       "    .dataframe tbody tr th {\n",
       "        vertical-align: top;\n",
       "    }\n",
       "\n",
       "    .dataframe thead th {\n",
       "        text-align: right;\n",
       "    }\n",
       "</style>\n",
       "<table border=\"1\" class=\"dataframe\">\n",
       "  <thead>\n",
       "    <tr style=\"text-align: right;\">\n",
       "      <th></th>\n",
       "      <th>Draw Date</th>\n",
       "      <th>Winning Numbers</th>\n",
       "      <th>Multiplier</th>\n",
       "    </tr>\n",
       "  </thead>\n",
       "  <tbody>\n",
       "    <tr>\n",
       "      <th>0</th>\n",
       "      <td>09/26/2020</td>\n",
       "      <td>11 21 27 36 62 24</td>\n",
       "      <td>3.0</td>\n",
       "    </tr>\n",
       "    <tr>\n",
       "      <th>1</th>\n",
       "      <td>09/30/2020</td>\n",
       "      <td>14 18 36 49 67 18</td>\n",
       "      <td>2.0</td>\n",
       "    </tr>\n",
       "    <tr>\n",
       "      <th>2</th>\n",
       "      <td>10/03/2020</td>\n",
       "      <td>18 31 36 43 47 20</td>\n",
       "      <td>2.0</td>\n",
       "    </tr>\n",
       "    <tr>\n",
       "      <th>3</th>\n",
       "      <td>10/07/2020</td>\n",
       "      <td>06 24 30 53 56 19</td>\n",
       "      <td>2.0</td>\n",
       "    </tr>\n",
       "    <tr>\n",
       "      <th>4</th>\n",
       "      <td>10/10/2020</td>\n",
       "      <td>05 18 23 40 50 18</td>\n",
       "      <td>3.0</td>\n",
       "    </tr>\n",
       "  </tbody>\n",
       "</table>\n",
       "</div>"
      ],
      "text/plain": [
       "    Draw Date    Winning Numbers  Multiplier\n",
       "0  09/26/2020  11 21 27 36 62 24         3.0\n",
       "1  09/30/2020  14 18 36 49 67 18         2.0\n",
       "2  10/03/2020  18 31 36 43 47 20         2.0\n",
       "3  10/07/2020  06 24 30 53 56 19         2.0\n",
       "4  10/10/2020  05 18 23 40 50 18         3.0"
      ]
     },
     "execution_count": 64,
     "metadata": {},
     "output_type": "execute_result"
    }
   ],
   "source": [
    "df.head() "
   ]
  },
  {
   "cell_type": "markdown",
   "id": "7e0d0b99-deb8-4726-81b3-55c9eed6d6b2",
   "metadata": {},
   "source": [
    "## df.head() Displays the top 5 results from my csv file \n",
    "## It shows the 3 columns that are available, as well as the the 5 rows \n",
    "## This shows my earliest data recorded in my file "
   ]
  },
  {
   "cell_type": "code",
   "execution_count": 65,
   "id": "9db11c77-0ea1-4991-9ae9-5a9fc4227c64",
   "metadata": {},
   "outputs": [
    {
     "data": {
      "text/plain": [
       "(1827, 3)"
      ]
     },
     "execution_count": 65,
     "metadata": {},
     "output_type": "execute_result"
    }
   ],
   "source": [
    "df.shape "
   ]
  },
  {
   "cell_type": "markdown",
   "id": "a6343fb0-a2fc-4e98-a897-b687bb9ab362",
   "metadata": {},
   "source": [
    "## Displays the number of rows (1827) and number of columns (3)\n",
    "### Makes counting each cell irrelevant"
   ]
  },
  {
   "cell_type": "code",
   "execution_count": 66,
   "id": "1e5408c7-cc13-4425-9110-612c32f0663c",
   "metadata": {},
   "outputs": [
    {
     "name": "stdout",
     "output_type": "stream",
     "text": [
      "<class 'pandas.core.frame.DataFrame'>\n",
      "RangeIndex: 1827 entries, 0 to 1826\n",
      "Data columns (total 3 columns):\n",
      " #   Column           Non-Null Count  Dtype  \n",
      "---  ------           --------------  -----  \n",
      " 0   Draw Date        1827 non-null   object \n",
      " 1   Winning Numbers  1827 non-null   object \n",
      " 2   Multiplier       1617 non-null   float64\n",
      "dtypes: float64(1), object(2)\n",
      "memory usage: 42.9+ KB\n"
     ]
    }
   ],
   "source": [
    "df.info()"
   ]
  },
  {
   "cell_type": "markdown",
   "id": "cc639e35-d1a1-4f7a-843a-719b0eacf4b5",
   "metadata": {},
   "source": [
    "## I have 3 columns and 1827 rows, as well as 1 float and 2 object rows \n",
    "### My first impression on my csv file is that their is now a lot of information in mine "
   ]
  },
  {
   "cell_type": "code",
   "execution_count": 67,
   "id": "43c18111-0dde-49b2-9b49-7f10fd4a3c54",
   "metadata": {},
   "outputs": [
    {
     "data": {
      "text/html": [
       "<div>\n",
       "<style scoped>\n",
       "    .dataframe tbody tr th:only-of-type {\n",
       "        vertical-align: middle;\n",
       "    }\n",
       "\n",
       "    .dataframe tbody tr th {\n",
       "        vertical-align: top;\n",
       "    }\n",
       "\n",
       "    .dataframe thead th {\n",
       "        text-align: right;\n",
       "    }\n",
       "</style>\n",
       "<table border=\"1\" class=\"dataframe\">\n",
       "  <thead>\n",
       "    <tr style=\"text-align: right;\">\n",
       "      <th></th>\n",
       "      <th>Multiplier</th>\n",
       "    </tr>\n",
       "  </thead>\n",
       "  <tbody>\n",
       "    <tr>\n",
       "      <th>count</th>\n",
       "      <td>1617.000000</td>\n",
       "    </tr>\n",
       "    <tr>\n",
       "      <th>mean</th>\n",
       "      <td>2.784787</td>\n",
       "    </tr>\n",
       "    <tr>\n",
       "      <th>std</th>\n",
       "      <td>1.174477</td>\n",
       "    </tr>\n",
       "    <tr>\n",
       "      <th>min</th>\n",
       "      <td>2.000000</td>\n",
       "    </tr>\n",
       "    <tr>\n",
       "      <th>25%</th>\n",
       "      <td>2.000000</td>\n",
       "    </tr>\n",
       "    <tr>\n",
       "      <th>50%</th>\n",
       "      <td>2.000000</td>\n",
       "    </tr>\n",
       "    <tr>\n",
       "      <th>75%</th>\n",
       "      <td>3.000000</td>\n",
       "    </tr>\n",
       "    <tr>\n",
       "      <th>max</th>\n",
       "      <td>10.000000</td>\n",
       "    </tr>\n",
       "  </tbody>\n",
       "</table>\n",
       "</div>"
      ],
      "text/plain": [
       "        Multiplier\n",
       "count  1617.000000\n",
       "mean      2.784787\n",
       "std       1.174477\n",
       "min       2.000000\n",
       "25%       2.000000\n",
       "50%       2.000000\n",
       "75%       3.000000\n",
       "max      10.000000"
      ]
     },
     "execution_count": 67,
     "metadata": {},
     "output_type": "execute_result"
    }
   ],
   "source": [
    "df.describe()"
   ]
  },
  {
   "cell_type": "markdown",
   "id": "234ca0a5-2af0-4e6f-aa14-d4edc8c7923c",
   "metadata": {},
   "source": [
    "## This shows the summary of all statisitcal data, which ould technically only be the multiplier variable "
   ]
  },
  {
   "cell_type": "markdown",
   "id": "0e7c8740-ec7d-47f0-8e8d-b490fce3dc11",
   "metadata": {},
   "source": [
    "# Clean the Data"
   ]
  },
  {
   "cell_type": "markdown",
   "id": "fef9d422-3e6f-47c7-9b85-af0a5a99025b",
   "metadata": {},
   "source": [
    "## Rename Column"
   ]
  },
  {
   "cell_type": "markdown",
   "id": "cf969c18-238f-4009-857e-8a9070932c78",
   "metadata": {},
   "source": [
    "### Rename column 'Winning Numbers' to wn"
   ]
  },
  {
   "cell_type": "code",
   "execution_count": 68,
   "id": "316327a6-1240-4ccc-91ae-ebde87d8afdd",
   "metadata": {},
   "outputs": [
    {
     "data": {
      "text/html": [
       "<div>\n",
       "<style scoped>\n",
       "    .dataframe tbody tr th:only-of-type {\n",
       "        vertical-align: middle;\n",
       "    }\n",
       "\n",
       "    .dataframe tbody tr th {\n",
       "        vertical-align: top;\n",
       "    }\n",
       "\n",
       "    .dataframe thead th {\n",
       "        text-align: right;\n",
       "    }\n",
       "</style>\n",
       "<table border=\"1\" class=\"dataframe\">\n",
       "  <thead>\n",
       "    <tr style=\"text-align: right;\">\n",
       "      <th></th>\n",
       "      <th>Draw Date</th>\n",
       "      <th>wn</th>\n",
       "      <th>Multiplier</th>\n",
       "    </tr>\n",
       "  </thead>\n",
       "  <tbody>\n",
       "    <tr>\n",
       "      <th>0</th>\n",
       "      <td>09/26/2020</td>\n",
       "      <td>11 21 27 36 62 24</td>\n",
       "      <td>3.0</td>\n",
       "    </tr>\n",
       "    <tr>\n",
       "      <th>1</th>\n",
       "      <td>09/30/2020</td>\n",
       "      <td>14 18 36 49 67 18</td>\n",
       "      <td>2.0</td>\n",
       "    </tr>\n",
       "    <tr>\n",
       "      <th>2</th>\n",
       "      <td>10/03/2020</td>\n",
       "      <td>18 31 36 43 47 20</td>\n",
       "      <td>2.0</td>\n",
       "    </tr>\n",
       "    <tr>\n",
       "      <th>3</th>\n",
       "      <td>10/07/2020</td>\n",
       "      <td>06 24 30 53 56 19</td>\n",
       "      <td>2.0</td>\n",
       "    </tr>\n",
       "    <tr>\n",
       "      <th>4</th>\n",
       "      <td>10/10/2020</td>\n",
       "      <td>05 18 23 40 50 18</td>\n",
       "      <td>3.0</td>\n",
       "    </tr>\n",
       "  </tbody>\n",
       "</table>\n",
       "</div>"
      ],
      "text/plain": [
       "    Draw Date                 wn  Multiplier\n",
       "0  09/26/2020  11 21 27 36 62 24         3.0\n",
       "1  09/30/2020  14 18 36 49 67 18         2.0\n",
       "2  10/03/2020  18 31 36 43 47 20         2.0\n",
       "3  10/07/2020  06 24 30 53 56 19         2.0\n",
       "4  10/10/2020  05 18 23 40 50 18         3.0"
      ]
     },
     "execution_count": 68,
     "metadata": {},
     "output_type": "execute_result"
    }
   ],
   "source": [
    "df = df.rename(columns={'Winning Numbers': 'wn'})\n",
    "df.head()"
   ]
  },
  {
   "cell_type": "code",
   "execution_count": 69,
   "id": "08e0da4f-ea16-4221-a4b0-c98fba63abd5",
   "metadata": {},
   "outputs": [
    {
     "data": {
      "text/plain": [
       "Draw Date       0\n",
       "wn              0\n",
       "Multiplier    210\n",
       "dtype: int64"
      ]
     },
     "execution_count": 69,
     "metadata": {},
     "output_type": "execute_result"
    }
   ],
   "source": [
    "df.isnull().sum()"
   ]
  },
  {
   "cell_type": "markdown",
   "id": "d336592c-90ad-4fc3-8157-95b8a481cde2",
   "metadata": {},
   "source": [
    "### Checked for missing values and no missing values were shown"
   ]
  },
  {
   "cell_type": "code",
   "execution_count": 70,
   "id": "fef3aeae-a1cb-4ded-9c84-7e401b136c82",
   "metadata": {},
   "outputs": [
    {
     "data": {
      "text/plain": [
       "Draw Date       0\n",
       "wn              0\n",
       "Multiplier    210\n",
       "dtype: int64"
      ]
     },
     "execution_count": 70,
     "metadata": {},
     "output_type": "execute_result"
    }
   ],
   "source": [
    "df.isnull().sum()"
   ]
  },
  {
   "cell_type": "markdown",
   "id": "31fd211d-6255-4808-abf6-7c19a8c7f609",
   "metadata": {},
   "source": [
    "### Shows no missing values, meaning high likliness for no errors"
   ]
  },
  {
   "cell_type": "markdown",
   "id": "c5656491-b8ab-4097-817c-abea335a6bbb",
   "metadata": {},
   "source": [
    "# Manipulate Data"
   ]
  },
  {
   "cell_type": "markdown",
   "id": "099365e8-07e0-4e8e-a37d-58df11cc542e",
   "metadata": {},
   "source": [
    "## Select and Display one Column"
   ]
  },
  {
   "cell_type": "code",
   "execution_count": 72,
   "id": "55efb67f-005f-496f-ad88-2c281823ea2b",
   "metadata": {},
   "outputs": [
    {
     "data": {
      "text/html": [
       "<div>\n",
       "<style scoped>\n",
       "    .dataframe tbody tr th:only-of-type {\n",
       "        vertical-align: middle;\n",
       "    }\n",
       "\n",
       "    .dataframe tbody tr th {\n",
       "        vertical-align: top;\n",
       "    }\n",
       "\n",
       "    .dataframe thead th {\n",
       "        text-align: right;\n",
       "    }\n",
       "</style>\n",
       "<table border=\"1\" class=\"dataframe\">\n",
       "  <thead>\n",
       "    <tr style=\"text-align: right;\">\n",
       "      <th></th>\n",
       "      <th>wn</th>\n",
       "    </tr>\n",
       "  </thead>\n",
       "  <tbody>\n",
       "    <tr>\n",
       "      <th>0</th>\n",
       "      <td>11 21 27 36 62 24</td>\n",
       "    </tr>\n",
       "    <tr>\n",
       "      <th>1</th>\n",
       "      <td>14 18 36 49 67 18</td>\n",
       "    </tr>\n",
       "    <tr>\n",
       "      <th>2</th>\n",
       "      <td>18 31 36 43 47 20</td>\n",
       "    </tr>\n",
       "    <tr>\n",
       "      <th>3</th>\n",
       "      <td>06 24 30 53 56 19</td>\n",
       "    </tr>\n",
       "    <tr>\n",
       "      <th>4</th>\n",
       "      <td>05 18 23 40 50 18</td>\n",
       "    </tr>\n",
       "  </tbody>\n",
       "</table>\n",
       "</div>"
      ],
      "text/plain": [
       "                  wn\n",
       "0  11 21 27 36 62 24\n",
       "1  14 18 36 49 67 18\n",
       "2  18 31 36 43 47 20\n",
       "3  06 24 30 53 56 19\n",
       "4  05 18 23 40 50 18"
      ]
     },
     "execution_count": 72,
     "metadata": {},
     "output_type": "execute_result"
    }
   ],
   "source": [
    "df = df[['wn']]\n",
    "df.head()"
   ]
  },
  {
   "cell_type": "markdown",
   "id": "1459c94d-a756-48a7-b288-691275028904",
   "metadata": {},
   "source": [
    "## Selected specific column 'wn' and it displayed al the winning numbers from all samples."
   ]
  },
  {
   "cell_type": "markdown",
   "id": "37ab7bf1-fdf3-4900-9701-4550a9691a59",
   "metadata": {},
   "source": [
    "## Sort Rows by One Column "
   ]
  },
  {
   "cell_type": "code",
   "execution_count": 73,
   "id": "cea594b7-3f2e-4b24-82db-a6bb4cd3797b",
   "metadata": {},
   "outputs": [
    {
     "data": {
      "text/plain": [
       "0       11 21 27 36 62 24\n",
       "1       14 18 36 49 67 18\n",
       "2       18 31 36 43 47 20\n",
       "3       06 24 30 53 56 19\n",
       "4       05 18 23 40 50 18\n",
       "              ...        \n",
       "1822    04 11 40 44 50 04\n",
       "1823    23 40 49 65 69 23\n",
       "1824    15 46 61 63 64 01\n",
       "1825    31 59 62 65 68 05\n",
       "1826    11 14 34 47 51 18\n",
       "Name: wn, Length: 1827, dtype: object"
      ]
     },
     "execution_count": 73,
     "metadata": {},
     "output_type": "execute_result"
    }
   ],
   "source": [
    "df['wn'] "
   ]
  },
  {
   "cell_type": "markdown",
   "id": "166ce275-3544-46b5-9abf-3735f42cbce3",
   "metadata": {},
   "source": [
    "## Define one column, 'Draw Date', to get all the data sort by rows "
   ]
  },
  {
   "cell_type": "markdown",
   "id": "d294494c-9a3e-4144-8aea-4d7f684123c8",
   "metadata": {},
   "source": [
    "## Slice 5-10 Rows"
   ]
  },
  {
   "cell_type": "code",
   "execution_count": 74,
   "id": "1c1d4fb3-3366-4985-99c2-69d932639f58",
   "metadata": {},
   "outputs": [
    {
     "data": {
      "text/html": [
       "<div>\n",
       "<style scoped>\n",
       "    .dataframe tbody tr th:only-of-type {\n",
       "        vertical-align: middle;\n",
       "    }\n",
       "\n",
       "    .dataframe tbody tr th {\n",
       "        vertical-align: top;\n",
       "    }\n",
       "\n",
       "    .dataframe thead th {\n",
       "        text-align: right;\n",
       "    }\n",
       "</style>\n",
       "<table border=\"1\" class=\"dataframe\">\n",
       "  <thead>\n",
       "    <tr style=\"text-align: right;\">\n",
       "      <th></th>\n",
       "      <th>wn</th>\n",
       "    </tr>\n",
       "  </thead>\n",
       "  <tbody>\n",
       "    <tr>\n",
       "      <th>5</th>\n",
       "      <td>21 37 52 53 58 05</td>\n",
       "    </tr>\n",
       "    <tr>\n",
       "      <th>6</th>\n",
       "      <td>06 10 31 37 44 23</td>\n",
       "    </tr>\n",
       "    <tr>\n",
       "      <th>7</th>\n",
       "      <td>01 03 13 44 56 26</td>\n",
       "    </tr>\n",
       "    <tr>\n",
       "      <th>8</th>\n",
       "      <td>18 20 27 45 65 06</td>\n",
       "    </tr>\n",
       "    <tr>\n",
       "      <th>9</th>\n",
       "      <td>11 28 37 40 53 13</td>\n",
       "    </tr>\n",
       "  </tbody>\n",
       "</table>\n",
       "</div>"
      ],
      "text/plain": [
       "                  wn\n",
       "5  21 37 52 53 58 05\n",
       "6  06 10 31 37 44 23\n",
       "7  01 03 13 44 56 26\n",
       "8  18 20 27 45 65 06\n",
       "9  11 28 37 40 53 13"
      ]
     },
     "execution_count": 74,
     "metadata": {},
     "output_type": "execute_result"
    }
   ],
   "source": [
    "df[5:10] "
   ]
  },
  {
   "cell_type": "markdown",
   "id": "4bec4b04-9f0b-41ee-becb-88d520c266ef",
   "metadata": {},
   "source": [
    "## Slices the rows 5 through 10 in the column 'Draw Date' as previously chosen "
   ]
  },
  {
   "cell_type": "markdown",
   "id": "61fe1b9e-2d56-40f1-a552-a86218ea827f",
   "metadata": {},
   "source": [
    "## Filter Rows with a Condition "
   ]
  },
  {
   "cell_type": "code",
   "execution_count": 98,
   "id": "75d6a850-f69a-4951-82fe-203ac01d4919",
   "metadata": {},
   "outputs": [
    {
     "data": {
      "text/html": [
       "<div>\n",
       "<style scoped>\n",
       "    .dataframe tbody tr th:only-of-type {\n",
       "        vertical-align: middle;\n",
       "    }\n",
       "\n",
       "    .dataframe tbody tr th {\n",
       "        vertical-align: top;\n",
       "    }\n",
       "\n",
       "    .dataframe thead th {\n",
       "        text-align: right;\n",
       "    }\n",
       "</style>\n",
       "<table border=\"1\" class=\"dataframe\">\n",
       "  <thead>\n",
       "    <tr style=\"text-align: right;\">\n",
       "      <th></th>\n",
       "      <th>Draw Date</th>\n",
       "      <th>Winning Numbers</th>\n",
       "      <th>Multiplier</th>\n",
       "    </tr>\n",
       "  </thead>\n",
       "  <tbody>\n",
       "    <tr>\n",
       "      <th>0</th>\n",
       "      <td>09/26/2020</td>\n",
       "      <td>11 21 27 36 62 24</td>\n",
       "      <td>3.0</td>\n",
       "    </tr>\n",
       "    <tr>\n",
       "      <th>1</th>\n",
       "      <td>09/30/2020</td>\n",
       "      <td>14 18 36 49 67 18</td>\n",
       "      <td>2.0</td>\n",
       "    </tr>\n",
       "    <tr>\n",
       "      <th>2</th>\n",
       "      <td>10/03/2020</td>\n",
       "      <td>18 31 36 43 47 20</td>\n",
       "      <td>2.0</td>\n",
       "    </tr>\n",
       "    <tr>\n",
       "      <th>3</th>\n",
       "      <td>10/07/2020</td>\n",
       "      <td>06 24 30 53 56 19</td>\n",
       "      <td>2.0</td>\n",
       "    </tr>\n",
       "    <tr>\n",
       "      <th>4</th>\n",
       "      <td>10/10/2020</td>\n",
       "      <td>05 18 23 40 50 18</td>\n",
       "      <td>3.0</td>\n",
       "    </tr>\n",
       "  </tbody>\n",
       "</table>\n",
       "</div>"
      ],
      "text/plain": [
       "    Draw Date    Winning Numbers  Multiplier\n",
       "0  09/26/2020  11 21 27 36 62 24         3.0\n",
       "1  09/30/2020  14 18 36 49 67 18         2.0\n",
       "2  10/03/2020  18 31 36 43 47 20         2.0\n",
       "3  10/07/2020  06 24 30 53 56 19         2.0\n",
       "4  10/10/2020  05 18 23 40 50 18         3.0"
      ]
     },
     "execution_count": 98,
     "metadata": {},
     "output_type": "execute_result"
    }
   ],
   "source": [
    "df= pd.read_csv('s3://ia340-fall-2025-e115/Lottery_Powerball_Winning_Numbers__Beginning_2010.csv') # load the data from s3\n",
    "df.head()"
   ]
  },
  {
   "cell_type": "code",
   "execution_count": 103,
   "id": "b7df0285-f919-4011-8bb8-6acbdb08c004",
   "metadata": {},
   "outputs": [
    {
     "data": {
      "text/html": [
       "<div>\n",
       "<style scoped>\n",
       "    .dataframe tbody tr th:only-of-type {\n",
       "        vertical-align: middle;\n",
       "    }\n",
       "\n",
       "    .dataframe tbody tr th {\n",
       "        vertical-align: top;\n",
       "    }\n",
       "\n",
       "    .dataframe thead th {\n",
       "        text-align: right;\n",
       "    }\n",
       "</style>\n",
       "<table border=\"1\" class=\"dataframe\">\n",
       "  <thead>\n",
       "    <tr style=\"text-align: right;\">\n",
       "      <th></th>\n",
       "      <th>Multiplier</th>\n",
       "    </tr>\n",
       "  </thead>\n",
       "  <tbody>\n",
       "    <tr>\n",
       "      <th>count</th>\n",
       "      <td>777.000000</td>\n",
       "    </tr>\n",
       "    <tr>\n",
       "      <th>mean</th>\n",
       "      <td>3.633205</td>\n",
       "    </tr>\n",
       "    <tr>\n",
       "      <th>std</th>\n",
       "      <td>1.218660</td>\n",
       "    </tr>\n",
       "    <tr>\n",
       "      <th>min</th>\n",
       "      <td>3.000000</td>\n",
       "    </tr>\n",
       "    <tr>\n",
       "      <th>25%</th>\n",
       "      <td>3.000000</td>\n",
       "    </tr>\n",
       "    <tr>\n",
       "      <th>50%</th>\n",
       "      <td>3.000000</td>\n",
       "    </tr>\n",
       "    <tr>\n",
       "      <th>75%</th>\n",
       "      <td>4.000000</td>\n",
       "    </tr>\n",
       "    <tr>\n",
       "      <th>max</th>\n",
       "      <td>10.000000</td>\n",
       "    </tr>\n",
       "  </tbody>\n",
       "</table>\n",
       "</div>"
      ],
      "text/plain": [
       "       Multiplier\n",
       "count  777.000000\n",
       "mean     3.633205\n",
       "std      1.218660\n",
       "min      3.000000\n",
       "25%      3.000000\n",
       "50%      3.000000\n",
       "75%      4.000000\n",
       "max     10.000000"
      ]
     },
     "execution_count": 103,
     "metadata": {},
     "output_type": "execute_result"
    }
   ],
   "source": [
    "df = df[(df['Multiplier'])>2.0]\n",
    "df.describe()"
   ]
  },
  {
   "cell_type": "markdown",
   "id": "ffb9a69a-f5d6-4ff7-8c6c-f524ae148145",
   "metadata": {},
   "source": [
    "## Re-enterd the floating data, then filtered the condition over 2.0"
   ]
  },
  {
   "cell_type": "markdown",
   "id": "0b471812-99fc-4a3c-8dfd-6f695a403c46",
   "metadata": {},
   "source": [
    "# Group and Visualize the Data"
   ]
  },
  {
   "cell_type": "code",
   "execution_count": 107,
   "id": "68ebdc72-7d40-4452-929c-c9bbeb1508cc",
   "metadata": {},
   "outputs": [
    {
     "name": "stdout",
     "output_type": "stream",
     "text": [
      "                                                    Draw Date  \\\n",
      "Multiplier                                                      \n",
      "3.0         09/26/202010/10/202010/21/202010/31/202012/02/...   \n",
      "4.0         03/06/202109/19/202007/01/202005/23/202005/06/...   \n",
      "5.0         04/07/202108/05/202006/10/202005/09/202005/02/...   \n",
      "10.0        02/20/202108/19/202007/15/202007/08/202009/04/...   \n",
      "\n",
      "                                              Winning Numbers  \n",
      "Multiplier                                                     \n",
      "3.0         11 21 27 36 62 2405 18 23 40 50 1801 03 13 44 ...  \n",
      "4.0         11 31 50 52 58 1811 14 23 47 57 1415 28 52 53 ...  \n",
      "5.0         27 35 39 51 66 1607 14 17 57 65 2410 33 41 52 ...  \n",
      "10.0        04 08 22 32 58 0413 23 47 55 58 2327 47 61 62 ...  \n"
     ]
    }
   ],
   "source": [
    "grouped_data = df.groupby('Multiplier').sum()\n",
    "print(grouped_data)"
   ]
  },
  {
   "cell_type": "markdown",
   "id": "c95a73aa-ebee-40a3-b045-0cc69b7a34dc",
   "metadata": {},
   "source": [
    "## Used Groupby to add all the sums of the multiplier numbers "
   ]
  },
  {
   "cell_type": "code",
   "execution_count": 108,
   "id": "4c2f1f40-d589-4a92-867f-fb8bf69afc91",
   "metadata": {},
   "outputs": [
    {
     "data": {
      "text/plain": [
       "array([[<Axes: title={'center': 'Multiplier'}>, <Axes: >],\n",
       "       [<Axes: >, <Axes: >]], dtype=object)"
      ]
     },
     "execution_count": 108,
     "metadata": {},
     "output_type": "execute_result"
    },
    {
     "data": {
      "image/png": "[encoded data removed]",
      "text/plain": [
       "<Figure size 1000x500 with 4 Axes>"
      ]
     },
     "metadata": {},
     "output_type": "display_data"
    }
   ],
   "source": [
    "df.hist(layout=(2,2), figsize=(10, 5), sharey=False, sharex=False, bins=50)\n"
   ]
  },
  {
   "cell_type": "markdown",
   "id": "5839882d-796f-4003-b793-c49e4f48ead6",
   "metadata": {},
   "source": [
    "## My only numerical, non-listed data, was abe to show the multipier distribution. THis shows how there is a large number of sums of the groupby data. I notice a particularly high trend inanything before 5, and the outlier group at 10.  "
   ]
  },
  {
   "cell_type": "code",
   "execution_count": 122,
   "id": "d30e96be-1b26-45dc-b2d6-018ee7dbc5b9",
   "metadata": {},
   "outputs": [
    {
     "data": {
      "text/plain": [
       "<Axes: title={'center': 'Top 10 Multiplier Sums by Draw Date'}, xlabel='Draw Date'>"
      ]
     },
     "execution_count": 122,
     "metadata": {},
     "output_type": "execute_result"
    },
    {
     "data": {
      "image/png": "[encoded data removed]",
      "text/plain": [
       "<Figure size 640x480 with 1 Axes>"
      ]
     },
     "metadata": {},
     "output_type": "display_data"
    }
   ],
   "source": [
    "sum_of_multiplier = df.groupby('Draw Date')['Multiplier'].sum()\n",
    "sum_of_multiplier.nlargest(10).plot.bar(title='Top 10 Multiplier Sums by Draw Date')"
   ]
  },
  {
   "cell_type": "markdown",
   "id": "cfc89028-54bc-49ce-a94b-7435c1ab7544",
   "metadata": {},
   "source": [
    "## A little simple, but this shows the sum of th emultipliers of each day and the consistency of said dates. If I were to use more than 10 sample dates, it would most likely be consistent across the board. "
   ]
  },
  {
   "cell_type": "code",
   "execution_count": null,
   "id": "0e9eaf6c-ef12-4f02-9a2e-7b4996916c25",
   "metadata": {},
   "outputs": [],
   "source": []
  }
 ],
 "metadata": {
  "kernelspec": {
   "display_name": "conda_python3",
   "language": "python",
   "name": "conda_python3"
  },
  "language_info": {
   "codemirror_mode": {
    "name": "ipython",
    "version": 3
   },
   "file_extension": ".py",
   "mimetype": "text/x-python",
   "name": "python",
   "nbconvert_exporter": "python",
   "pygments_lexer": "ipython3",
   "version": "3.10.18"
  }
 },
 "nbformat": 4,
 "nbformat_minor": 5
}
