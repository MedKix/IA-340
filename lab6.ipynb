{
 "cells": [
  {
   "cell_type": "code",
   "execution_count": 26,
   "id": "3e499b6b-4c6b-438e-ad9e-306d55761095",
   "metadata": {},
   "outputs": [],
   "source": [
    "import boto3\n",
    "from botocore.exceptions import ClientError\n",
    "import json\n",
    "\n",
    "def get_secret(secret_name):\n",
    "    region_name = \"us-east-1\"\n",
    "\n",
    "    # Create a Secrets Manager client\n",
    "    session = boto3.session.Session()\n",
    "    client = session.client(\n",
    "        service_name='secretsmanager',\n",
    "        region_name=region_name\n",
    "    )\n",
    "\n",
    "    try:\n",
    "        get_secret_value_response = client.get_secret_value(\n",
    "            SecretId=secret_name\n",
    "        )\n",
    "    except ClientError as e:\n",
    "        raise e\n",
    "\n",
    "    secret = get_secret_value_response['SecretString']\n",
    "    \n",
    "    return json.loads(secret)"
   ]
  },
  {
   "cell_type": "code",
   "execution_count": 27,
   "id": "43c2721b-bad9-4b3e-b448-0b15fa8989ed",
   "metadata": {},
   "outputs": [],
   "source": [
    "import psycopg2\n",
    "\n",
    "conn = psycopg2.connect(host=get_secret('postgresql')['host'],\n",
    "                      user=get_secret('postgresql')['username'],\n",
    "                      password = get_secret('postgresql')['password'],\n",
    "                      dbname=get_secret('postgresql')['engine'])\n",
    "\n",
    "cur = conn.cursor()"
   ]
  },
  {
   "cell_type": "markdown",
   "id": "73980022-3017-4c2d-94f9-60461dbb77a9",
   "metadata": {},
   "source": [
    "# Q1: Population Growth Rate"
   ]
  },
  {
   "cell_type": "code",
   "execution_count": 28,
   "id": "bba7f0bc-4b39-403b-ba7c-4ec032e5ae63",
   "metadata": {},
   "outputs": [],
   "source": [
    "sql = \"\"\"\n",
    "     select * from name_income\n",
    "     where fips = '01'\n",
    "     \"\"\""
   ]
  },
  {
   "cell_type": "code",
   "execution_count": 29,
   "id": "ae18797a-f5e0-4244-9ee2-d2a9e8dcba68",
   "metadata": {},
   "outputs": [
    {
     "data": {
      "text/html": [
       "<div>\n",
       "<style scoped>\n",
       "    .dataframe tbody tr th:only-of-type {\n",
       "        vertical-align: middle;\n",
       "    }\n",
       "\n",
       "    .dataframe tbody tr th {\n",
       "        vertical-align: top;\n",
       "    }\n",
       "\n",
       "    .dataframe thead th {\n",
       "        text-align: right;\n",
       "    }\n",
       "</style>\n",
       "<table border=\"1\" class=\"dataframe\">\n",
       "  <thead>\n",
       "    <tr style=\"text-align: right;\">\n",
       "      <th></th>\n",
       "      <th>fips</th>\n",
       "      <th>name</th>\n",
       "      <th>income</th>\n",
       "      <th>year</th>\n",
       "    </tr>\n",
       "  </thead>\n",
       "  <tbody>\n",
       "    <tr>\n",
       "      <th>0</th>\n",
       "      <td>01</td>\n",
       "      <td>Alabama</td>\n",
       "      <td>36879</td>\n",
       "      <td>2005</td>\n",
       "    </tr>\n",
       "    <tr>\n",
       "      <th>1</th>\n",
       "      <td>01</td>\n",
       "      <td>Alabama</td>\n",
       "      <td>38783</td>\n",
       "      <td>2006</td>\n",
       "    </tr>\n",
       "    <tr>\n",
       "      <th>2</th>\n",
       "      <td>01</td>\n",
       "      <td>Alabama</td>\n",
       "      <td>40554</td>\n",
       "      <td>2007</td>\n",
       "    </tr>\n",
       "    <tr>\n",
       "      <th>3</th>\n",
       "      <td>01</td>\n",
       "      <td>Alabama</td>\n",
       "      <td>42666</td>\n",
       "      <td>2008</td>\n",
       "    </tr>\n",
       "    <tr>\n",
       "      <th>4</th>\n",
       "      <td>01</td>\n",
       "      <td>Alabama</td>\n",
       "      <td>40489</td>\n",
       "      <td>2009</td>\n",
       "    </tr>\n",
       "  </tbody>\n",
       "</table>\n",
       "</div>"
      ],
      "text/plain": [
       "  fips     name  income  year\n",
       "0   01  Alabama   36879  2005\n",
       "1   01  Alabama   38783  2006\n",
       "2   01  Alabama   40554  2007\n",
       "3   01  Alabama   42666  2008\n",
       "4   01  Alabama   40489  2009"
      ]
     },
     "execution_count": 29,
     "metadata": {},
     "output_type": "execute_result"
    }
   ],
   "source": [
    "import pandas as pd\n",
    "\n",
    "al_df = pd.read_sql(sql, con=conn)\n",
    "al_df.head()"
   ]
  },
  {
   "cell_type": "code",
   "execution_count": 30,
   "id": "be066c73-410e-4891-9fbd-e8bf8298cd9d",
   "metadata": {},
   "outputs": [
    {
     "name": "stdout",
     "output_type": "stream",
     "text": [
      "Requirement already satisfied: pip in /home/ec2-user/anaconda3/envs/python3/lib/python3.10/site-packages (25.2)\n",
      "Requirement already satisfied: setuptools in /home/ec2-user/anaconda3/envs/python3/lib/python3.10/site-packages (80.9.0)\n",
      "Requirement already satisfied: wheel in /home/ec2-user/anaconda3/envs/python3/lib/python3.10/site-packages (0.45.1)\n",
      "Note: you may need to restart the kernel to use updated packages.\n"
     ]
    }
   ],
   "source": [
    "pip install -U pip setuptools wheel"
   ]
  },
  {
   "cell_type": "code",
   "execution_count": 31,
   "id": "acb1d823-591d-4586-ad37-7deb7826688e",
   "metadata": {},
   "outputs": [
    {
     "name": "stdout",
     "output_type": "stream",
     "text": [
      "Collecting tiktoken>=0.7.0\n",
      "  Downloading tiktoken-0.11.0-cp310-cp310-manylinux_2_17_x86_64.manylinux2014_x86_64.whl.metadata (6.7 kB)\n",
      "Requirement already satisfied: regex>=2022.1.18 in /home/ec2-user/anaconda3/envs/python3/lib/python3.10/site-packages (from tiktoken>=0.7.0) (2025.9.18)\n",
      "Requirement already satisfied: requests>=2.26.0 in /home/ec2-user/anaconda3/envs/python3/lib/python3.10/site-packages (from tiktoken>=0.7.0) (2.32.5)\n",
      "Requirement already satisfied: charset_normalizer<4,>=2 in /home/ec2-user/anaconda3/envs/python3/lib/python3.10/site-packages (from requests>=2.26.0->tiktoken>=0.7.0) (3.4.3)\n",
      "Requirement already satisfied: idna<4,>=2.5 in /home/ec2-user/anaconda3/envs/python3/lib/python3.10/site-packages (from requests>=2.26.0->tiktoken>=0.7.0) (3.10)\n",
      "Requirement already satisfied: urllib3<3,>=1.21.1 in /home/ec2-user/anaconda3/envs/python3/lib/python3.10/site-packages (from requests>=2.26.0->tiktoken>=0.7.0) (2.5.0)\n",
      "Requirement already satisfied: certifi>=2017.4.17 in /home/ec2-user/anaconda3/envs/python3/lib/python3.10/site-packages (from requests>=2.26.0->tiktoken>=0.7.0) (2025.8.3)\n",
      "Downloading tiktoken-0.11.0-cp310-cp310-manylinux_2_17_x86_64.manylinux2014_x86_64.whl (1.2 MB)\n",
      "\u001b[2K   \u001b[90m━━━━━━━━━━━━━━━━━━━━━━━━━━━━━━━━━━━━━━━━\u001b[0m \u001b[32m1.2/1.2 MB\u001b[0m \u001b[31m75.1 MB/s\u001b[0m  \u001b[33m0:00:00\u001b[0m\n",
      "\u001b[?25hInstalling collected packages: tiktoken\n",
      "Successfully installed tiktoken-0.11.0\n",
      "Note: you may need to restart the kernel to use updated packages.\n"
     ]
    }
   ],
   "source": [
    "pip install --only-binary=:all: \"tiktoken>=0.7.0\""
   ]
  },
  {
   "cell_type": "code",
   "execution_count": 32,
   "id": "befa7e93-b972-44eb-b129-7503b9f29b38",
   "metadata": {},
   "outputs": [
    {
     "name": "stdout",
     "output_type": "stream",
     "text": [
      "\u001b[31mERROR: pip's dependency resolver does not currently take into account all the packages that are installed. This behaviour is the source of the following dependency conflicts.\n",
      "safety-schemas 0.0.14 requires pydantic<2.10.0,>=2.6.0, but you have pydantic 2.12.0 which is incompatible.\n",
      "sparkmagic 0.21.0 requires pandas<2.0.0,>=0.17.1, but you have pandas 2.2.3 which is incompatible.\u001b[0m\u001b[31m\n",
      "\u001b[0mNote: you may need to restart the kernel to use updated packages.\n"
     ]
    }
   ],
   "source": [
    "pip install \"jupyter-ai-magics[all]\" -q"
   ]
  },
  {
   "cell_type": "code",
   "execution_count": 33,
   "id": "0d72674f-2182-45fc-b9f2-c3d5a54c05b3",
   "metadata": {},
   "outputs": [],
   "source": [
    "! pip install jupyter-ai-magics[all] -q"
   ]
  },
  {
   "cell_type": "code",
   "execution_count": 34,
   "id": "897d948b-3e56-4662-bb0f-69d8d0fa863d",
   "metadata": {},
   "outputs": [],
   "source": [
    "import warnings\n",
    "warnings.simplefilter('ignore')"
   ]
  },
  {
   "cell_type": "code",
   "execution_count": 35,
   "id": "4eb6c14d-2d6b-42a4-a1f1-166c65284680",
   "metadata": {},
   "outputs": [],
   "source": [
    "import os\n",
    "os.environ[\"OPENAI_API_KEY\"] = get_secret('openai')['api_key']"
   ]
  },
  {
   "cell_type": "code",
   "execution_count": 36,
   "id": "d427f5e3-303b-4765-ba0b-c7e731de09ec",
   "metadata": {},
   "outputs": [],
   "source": [
    "%load_ext jupyter_ai_magics"
   ]
  },
  {
   "cell_type": "code",
   "execution_count": 31,
   "id": "a391c271-0b66-486c-8310-2db85f82d7ef",
   "metadata": {},
   "outputs": [
    {
     "data": {
      "text/html": [
       "AI generated code inserted below &#11015;&#65039;"
      ],
      "text/plain": [
       "<IPython.core.display.HTML object>"
      ]
     },
     "execution_count": 31,
     "metadata": {
      "text/html": {
       "jupyter_ai": {
        "model_id": "gpt-4",
        "provider_id": "openai-chat"
       }
      }
     },
     "output_type": "execute_result"
    }
   ],
   "source": [
    "%%ai gpt4 -f code\n",
    "Calculate the growth rate with the data provided in {al_df}, use the al_df directly, and visualize the result on a line chart"
   ]
  },
  {
   "cell_type": "code",
   "execution_count": 37,
   "id": "d279fa28-3920-42b1-800d-647625de811e",
   "metadata": {},
   "outputs": [
    {
     "data": {
      "image/png": "[encoded data removed]",
      "text/plain": [
       "<Figure size 640x480 with 1 Axes>"
      ]
     },
     "metadata": {},
     "output_type": "display_data"
    }
   ],
   "source": [
    "import pandas as pd\n",
    "import matplotlib.pyplot as plt\n",
    "\n",
    "# Assuming al_df as the input DataFrame\n",
    "al_df = pd.DataFrame({\n",
    "    'fips': ['01']*15,\n",
    "    'name': ['Alabama']*15,\n",
    "    'income': [36879, 38783, 40554, 42666, 40489, 40474, 41415, 41574, 42849, 42830, 44765, 46257, 48123, 49861, 51734],\n",
    "    'year': list(range(2005, 2020))\n",
    "})\n",
    "\n",
    "# Compute the income growth rate\n",
    "al_df['growth_rate'] = al_df['income'].pct_change()\n",
    "\n",
    "# Plot the growth rate\n",
    "plt.plot(al_df['year'], al_df['growth_rate'])\n",
    "plt.title('Year-over-Year Income Growth Rate in Alabama')\n",
    "plt.xlabel('Year')\n",
    "plt.ylabel('Growth Rate')\n",
    "plt.grid(True)\n",
    "plt.show()"
   ]
  },
  {
   "cell_type": "markdown",
   "id": "0594b964-2606-4a00-9e75-c6aed68126a9",
   "metadata": {},
   "source": [
    "### The code above creates the graph of the growth rate of Alabama over the time in the sql database. The chart shows a significant drop from 2008 to 2009, but shows significant growth. "
   ]
  },
  {
   "cell_type": "markdown",
   "id": "de1c1ed6-c0fd-47f7-b67b-c75f2cc164e3",
   "metadata": {},
   "source": [
    "# Q2: Income and Population Relationship "
   ]
  },
  {
   "cell_type": "code",
   "execution_count": 38,
   "id": "b3b94156-5656-463d-ba12-179fb4aa2f93",
   "metadata": {},
   "outputs": [],
   "source": [
    "sql_2 = \"\"\"\n",
    "SELECT \n",
    "    n.name AS county_name,\n",
    "    i.year,\n",
    "    i.income,\n",
    "    p.pop AS population\n",
    "FROM \n",
    "    income i\n",
    "JOIN \n",
    "    population p \n",
    "    ON i.fips = p.fips \n",
    "    AND i.year = p.year\n",
    "JOIN \n",
    "    name n \n",
    "    ON i.fips = n.fips\n",
    "WHERE \n",
    "    n.name LIKE '%Alabama%'\n",
    "ORDER BY \n",
    "    i.year, n.name\n",
    "    \"\"\""
   ]
  },
  {
   "cell_type": "code",
   "execution_count": 39,
   "id": "de9a8330-0b6f-4b89-a5ff-4f82692c8a85",
   "metadata": {},
   "outputs": [
    {
     "data": {
      "text/html": [
       "<div>\n",
       "<style scoped>\n",
       "    .dataframe tbody tr th:only-of-type {\n",
       "        vertical-align: middle;\n",
       "    }\n",
       "\n",
       "    .dataframe tbody tr th {\n",
       "        vertical-align: top;\n",
       "    }\n",
       "\n",
       "    .dataframe thead th {\n",
       "        text-align: right;\n",
       "    }\n",
       "</style>\n",
       "<table border=\"1\" class=\"dataframe\">\n",
       "  <thead>\n",
       "    <tr style=\"text-align: right;\">\n",
       "      <th></th>\n",
       "      <th>county_name</th>\n",
       "      <th>year</th>\n",
       "      <th>income</th>\n",
       "      <th>population</th>\n",
       "    </tr>\n",
       "  </thead>\n",
       "  <tbody>\n",
       "    <tr>\n",
       "      <th>0</th>\n",
       "      <td>Alabama</td>\n",
       "      <td>2005</td>\n",
       "      <td>36879</td>\n",
       "      <td>4442558</td>\n",
       "    </tr>\n",
       "    <tr>\n",
       "      <th>1</th>\n",
       "      <td>Alabama</td>\n",
       "      <td>2006</td>\n",
       "      <td>38783</td>\n",
       "      <td>4599030</td>\n",
       "    </tr>\n",
       "    <tr>\n",
       "      <th>2</th>\n",
       "      <td>Alabama</td>\n",
       "      <td>2007</td>\n",
       "      <td>40554</td>\n",
       "      <td>4627851</td>\n",
       "    </tr>\n",
       "    <tr>\n",
       "      <th>3</th>\n",
       "      <td>Alabama</td>\n",
       "      <td>2008</td>\n",
       "      <td>42666</td>\n",
       "      <td>4661900</td>\n",
       "    </tr>\n",
       "    <tr>\n",
       "      <th>4</th>\n",
       "      <td>Alabama</td>\n",
       "      <td>2009</td>\n",
       "      <td>40489</td>\n",
       "      <td>4708708</td>\n",
       "    </tr>\n",
       "  </tbody>\n",
       "</table>\n",
       "</div>"
      ],
      "text/plain": [
       "  county_name  year  income  population\n",
       "0     Alabama  2005   36879     4442558\n",
       "1     Alabama  2006   38783     4599030\n",
       "2     Alabama  2007   40554     4627851\n",
       "3     Alabama  2008   42666     4661900\n",
       "4     Alabama  2009   40489     4708708"
      ]
     },
     "execution_count": 39,
     "metadata": {},
     "output_type": "execute_result"
    }
   ],
   "source": [
    "import pandas as pd\n",
    "\n",
    "al_df2 = pd.read_sql(sql_2, con=conn)\n",
    "al_df2.head()"
   ]
  },
  {
   "cell_type": "code",
   "execution_count": 65,
   "id": "354cb6f4-7266-4bf9-9a99-7413c6328ee7",
   "metadata": {},
   "outputs": [
    {
     "data": {
      "text/html": [
       "AI generated code inserted below &#11015;&#65039;"
      ],
      "text/plain": [
       "<IPython.core.display.HTML object>"
      ]
     },
     "execution_count": 65,
     "metadata": {
      "text/html": {
       "jupyter_ai": {
        "model_id": "gpt-4",
        "provider_id": "openai-chat"
       }
      }
     },
     "output_type": "execute_result"
    }
   ],
   "source": [
    "%%ai gpt4 -f code\n",
    "Create a dual-axis chart in Python from {al_df2}, with the X-axis as year, Left Y-axis as population (line), and Right Y-axis as median household income (bar or line, different color) \n",
    "The state name, 'Alabama', must be in the title"
   ]
  },
  {
   "cell_type": "code",
   "execution_count": 66,
   "id": "2e19cfba-4d85-4d79-817f-4b77d5d66925",
   "metadata": {},
   "outputs": [
    {
     "data": {
      "image/png": "[encoded data removed]",
      "text/plain": [
       "<Figure size 640x480 with 2 Axes>"
      ]
     },
     "metadata": {},
     "output_type": "display_data"
    }
   ],
   "source": [
    "import matplotlib.pyplot as plt\n",
    "import pandas as pd\n",
    "\n",
    "# Assuming that the DataFrame is df\n",
    "df = pd.DataFrame({\n",
    "    'county_name': ['Alabama']*15,\n",
    "    'year': list(range(2005, 2020)),\n",
    "    'income': [36879, 38783, 40554, 42666, 40489, 40474, 41415, 41574, 42849, 42830, 44765, 46257, 48123, 49861, 51734],\n",
    "    'population': [4442558, 4599030, 4627851, 4661900, 4708708, 4785298, 4802740, 4822023, 4833722, 4849377, 4858979, 4863300, 4874747, 4887871, 4903185]    \n",
    "})\n",
    "\n",
    "fig, ax1 = plt.subplots()\n",
    "\n",
    "color = 'tab:blue'\n",
    "ax1.set_xlabel('Year')\n",
    "ax1.set_ylabel('Population', color=color)\n",
    "ax1.plot(df['year'], df['population'], color=color)\n",
    "ax1.tick_params(axis='y', labelcolor=color)\n",
    "\n",
    "ax2 = ax1.twinx() \n",
    "color = 'tab:red'\n",
    "ax2.set_ylabel('Income', color=color)\n",
    "ax2.plot(df['year'], df['income'], color=color)\n",
    "ax2.tick_params(axis='y', labelcolor=color)\n",
    "\n",
    "plt.title('Population and Income in Alabama Over Years')\n",
    "plt.show()"
   ]
  },
  {
   "cell_type": "markdown",
   "id": "0ed7d094-6010-46a9-b15a-fc9272b6a7ac",
   "metadata": {},
   "source": [
    "## The population and income trends compare fairly closely in terms of trends. However, there was a significant rise in income around 2008, but soon after a drop in 2009. Additionally, population has never decreased and had a steep climb from 2008-2010."
   ]
  },
  {
   "cell_type": "markdown",
   "id": "11c7040a-6779-49dd-810f-2f19f23790e6",
   "metadata": {},
   "source": [
    "# Q3: Which 5 years showed the highest population increase in Alabama? "
   ]
  },
  {
   "cell_type": "code",
   "execution_count": 40,
   "id": "09342081-c856-4508-b995-743e37df7c69",
   "metadata": {},
   "outputs": [],
   "source": [
    "sql_3 = \"\"\"\n",
    "SELECT \n",
    "    p1.year AS year,\n",
    "    (p1.pop - p2.pop) AS population_increase\n",
    "FROM \n",
    "    population p1\n",
    "JOIN \n",
    "    population p2 \n",
    "    ON p1.fips = p2.fips \n",
    "    AND p1.year = p2.year + 1\n",
    "JOIN \n",
    "    name n \n",
    "    ON p1.fips = n.fips\n",
    "WHERE \n",
    "    n.name = 'Alabama'\n",
    "ORDER BY \n",
    "    population_increase DESC\n",
    "LIMIT 5\n",
    "\"\"\"\n"
   ]
  },
  {
   "cell_type": "code",
   "execution_count": 41,
   "id": "dace9c09-569f-4c8c-9c5b-d4d4b5885902",
   "metadata": {},
   "outputs": [
    {
     "data": {
      "text/html": [
       "<div>\n",
       "<style scoped>\n",
       "    .dataframe tbody tr th:only-of-type {\n",
       "        vertical-align: middle;\n",
       "    }\n",
       "\n",
       "    .dataframe tbody tr th {\n",
       "        vertical-align: top;\n",
       "    }\n",
       "\n",
       "    .dataframe thead th {\n",
       "        text-align: right;\n",
       "    }\n",
       "</style>\n",
       "<table border=\"1\" class=\"dataframe\">\n",
       "  <thead>\n",
       "    <tr style=\"text-align: right;\">\n",
       "      <th></th>\n",
       "      <th>year</th>\n",
       "      <th>population_increase</th>\n",
       "    </tr>\n",
       "  </thead>\n",
       "  <tbody>\n",
       "    <tr>\n",
       "      <th>0</th>\n",
       "      <td>2006</td>\n",
       "      <td>156472</td>\n",
       "    </tr>\n",
       "    <tr>\n",
       "      <th>1</th>\n",
       "      <td>2010</td>\n",
       "      <td>76590</td>\n",
       "    </tr>\n",
       "    <tr>\n",
       "      <th>2</th>\n",
       "      <td>2009</td>\n",
       "      <td>46808</td>\n",
       "    </tr>\n",
       "    <tr>\n",
       "      <th>3</th>\n",
       "      <td>2008</td>\n",
       "      <td>34049</td>\n",
       "    </tr>\n",
       "    <tr>\n",
       "      <th>4</th>\n",
       "      <td>2007</td>\n",
       "      <td>28821</td>\n",
       "    </tr>\n",
       "  </tbody>\n",
       "</table>\n",
       "</div>"
      ],
      "text/plain": [
       "   year  population_increase\n",
       "0  2006               156472\n",
       "1  2010                76590\n",
       "2  2009                46808\n",
       "3  2008                34049\n",
       "4  2007                28821"
      ]
     },
     "execution_count": 41,
     "metadata": {},
     "output_type": "execute_result"
    }
   ],
   "source": [
    "import pandas as pd\n",
    "\n",
    "al_df3 = pd.read_sql(sql_3, con=conn)\n",
    "al_df3.head()"
   ]
  },
  {
   "cell_type": "code",
   "execution_count": 42,
   "id": "73b7a5ce-da46-4efc-aa8c-e83263d3a88f",
   "metadata": {},
   "outputs": [
    {
     "data": {
      "text/html": [
       "AI generated code inserted below &#11015;&#65039;"
      ],
      "text/plain": [
       "<IPython.core.display.HTML object>"
      ]
     },
     "execution_count": 42,
     "metadata": {
      "text/html": {
       "jupyter_ai": {
        "model_id": "gpt-4",
        "provider_id": "openai-chat"
       }
      }
     },
     "output_type": "execute_result"
    }
   ],
   "source": [
    "%%ai gpt4 -f code\n",
    "Create a bar chart in Python from {al_df3}, where each bar is a different color and the state name, 'Alabama', must be in the title"
   ]
  },
  {
   "cell_type": "code",
   "execution_count": 43,
   "id": "bb92a87f-2ba3-47d9-b24b-bac775272515",
   "metadata": {},
   "outputs": [
    {
     "data": {
      "image/png": "[encoded data removed]",
      "text/plain": [
       "<Figure size 800x500 with 1 Axes>"
      ]
     },
     "metadata": {},
     "output_type": "display_data"
    }
   ],
   "source": [
    "import matplotlib.pyplot as plt\n",
    "\n",
    "years = [2006, 2010, 2009, 2008, 2007]\n",
    "population_increase = [156472, 76590, 46808, 34049, 28821]\n",
    "colors = ['b', 'g', 'r', 'c', 'm']\n",
    "\n",
    "plt.figure(figsize=(8,5))\n",
    "plt.bar(years, population_increase, color=colors)\n",
    "plt.title('Alabama Population Increase by Year')\n",
    "plt.xlabel('Year')\n",
    "plt.ylabel('Population Increase')\n",
    "plt.show()"
   ]
  },
  {
   "cell_type": "markdown",
   "id": "e79c4950-1f09-4437-ada5-795be7042815",
   "metadata": {},
   "source": [
    "## This question displays the top 5 years where there was a population increase. Primarily, in 2006 their was a roughly 160,000 population increase from 2005. However, the population would not see an increase close to this again. "
   ]
  },
  {
   "cell_type": "code",
   "execution_count": null,
   "id": "140da8c2-0baf-4bb0-8245-d234cea841af",
   "metadata": {},
   "outputs": [],
   "source": []
  }
 ],
 "metadata": {
  "kernelspec": {
   "display_name": "conda_python3",
   "language": "python",
   "name": "conda_python3"
  },
  "language_info": {
   "codemirror_mode": {
    "name": "ipython",
    "version": 3
   },
   "file_extension": ".py",
   "mimetype": "text/x-python",
   "name": "python",
   "nbconvert_exporter": "python",
   "pygments_lexer": "ipython3",
   "version": "3.10.18"
  }
 },
 "nbformat": 4,
 "nbformat_minor": 5
}
