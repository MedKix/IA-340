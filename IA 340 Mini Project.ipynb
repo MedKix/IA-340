{
 "cells": [
  {
   "cell_type": "markdown",
   "id": "f4c67007-39a1-4102-a7aa-5de6d10460a5",
   "metadata": {},
   "source": [
    "# IA340 Mini Project "
   ]
  },
  {
   "cell_type": "markdown",
   "id": "c9b4567a-a637-4e45-ba5d-a0fec49dad95",
   "metadata": {},
   "source": [
    "**Project Title:** Annual Unemployment Statistics for California "
   ]
  },
  {
   "cell_type": "markdown",
   "id": "934c579b-db9c-4de3-a5f0-20e54af66035",
   "metadata": {},
   "source": [
    "## Research Question:\n",
    "How has Californias unemployment statistics changed from 1990 to 2024? Which years showed the highest and lowest employment rates?"
   ]
  },
  {
   "cell_type": "markdown",
   "id": "1c9f0cde-f46d-4aa3-8e8e-625dcba1f600",
   "metadata": {},
   "source": [
    "## Dataset Documentation \n",
    "**Source:** https://catalog.data.gov/dataset/local-area-unemployment-statistics-laus-annual-average\n",
    "**Descrption:** Unemployment rate and labor force size by year and area type\n",
    "**Time Period:** 1990-2024\n",
    "**Reason for Choice:** California is my home state and has a large job market that I am interested in for a career. Additioanlly, finding a pattern of highs and lows in the job market could help me to decide when I should look for jobs and when I shouldn't. "
   ]
  },
  {
   "cell_type": "markdown",
   "id": "1a4bdd89-06d6-4745-aa39-8ade52b0f830",
   "metadata": {
    "jp-MarkdownHeadingCollapsed": true
   },
   "source": [
    "## Import"
   ]
  },
  {
   "cell_type": "markdown",
   "id": "79dd3851-b273-4cb0-8831-a730e29dfaae",
   "metadata": {},
   "source": [
    "**Description:** This code allows for the use of secret manager client, which along with the other code, allows for the Jupyter AI magics so answer any questions on my dataset. Additional imports include pandas and warnings to assist in any missing packages and ignore warnings. "
   ]
  },
  {
   "cell_type": "code",
   "execution_count": 1,
   "id": "566cb499-00c2-47a9-9c1d-9e0ffeabe74e",
   "metadata": {},
   "outputs": [],
   "source": [
    "import boto3\n",
    "from botocore.exceptions import ClientError\n",
    "import json\n",
    "\n",
    "def get_secret(secret_name):\n",
    "    region_name = \"us-east-1\"\n",
    "\n",
    "    # Create a Secrets Manager client\n",
    "    session = boto3.session.Session()\n",
    "    client = session.client(\n",
    "        service_name='secretsmanager',\n",
    "        region_name=region_name\n",
    "    )\n",
    "\n",
    "    try:\n",
    "        get_secret_value_response = client.get_secret_value(\n",
    "            SecretId=secret_name\n",
    "        )\n",
    "    except ClientError as e:\n",
    "        raise e\n",
    "\n",
    "    secret = get_secret_value_response['SecretString']\n",
    "    \n",
    "    return json.loads(secret)"
   ]
  },
  {
   "cell_type": "code",
   "execution_count": 2,
   "id": "b0496ada-52e0-4b04-a297-e977fddfdaba",
   "metadata": {},
   "outputs": [],
   "source": [
    "import warnings \n",
    "warnings.simplefilter('ignore')"
   ]
  },
  {
   "cell_type": "code",
   "execution_count": 3,
   "id": "44ab60e4-7429-4d43-aba1-1e7f7629023e",
   "metadata": {},
   "outputs": [],
   "source": [
    "import pandas as pd"
   ]
  },
  {
   "cell_type": "code",
   "execution_count": 4,
   "id": "79d36776-ceb4-4448-a82c-491a266464fa",
   "metadata": {},
   "outputs": [
    {
     "data": {
      "text/html": [
       "<div>\n",
       "<style scoped>\n",
       "    .dataframe tbody tr th:only-of-type {\n",
       "        vertical-align: middle;\n",
       "    }\n",
       "\n",
       "    .dataframe tbody tr th {\n",
       "        vertical-align: top;\n",
       "    }\n",
       "\n",
       "    .dataframe thead th {\n",
       "        text-align: right;\n",
       "    }\n",
       "</style>\n",
       "<table border=\"1\" class=\"dataframe\">\n",
       "  <thead>\n",
       "    <tr style=\"text-align: right;\">\n",
       "      <th></th>\n",
       "      <th>Area Name</th>\n",
       "      <th>Area Type</th>\n",
       "      <th>Year</th>\n",
       "      <th>Month</th>\n",
       "      <th>Seasonally Adjusted(Y/N)</th>\n",
       "      <th>Status</th>\n",
       "      <th>Labor Force</th>\n",
       "      <th>Employment</th>\n",
       "      <th>Unemployment</th>\n",
       "      <th>Unemployment Rate</th>\n",
       "    </tr>\n",
       "  </thead>\n",
       "  <tbody>\n",
       "    <tr>\n",
       "      <th>0</th>\n",
       "      <td>California</td>\n",
       "      <td>State</td>\n",
       "      <td>1990</td>\n",
       "      <td>Annual</td>\n",
       "      <td>N</td>\n",
       "      <td>Final</td>\n",
       "      <td>15176300</td>\n",
       "      <td>14301800</td>\n",
       "      <td>874500</td>\n",
       "      <td>5.8</td>\n",
       "    </tr>\n",
       "    <tr>\n",
       "      <th>1</th>\n",
       "      <td>Los Angeles-Long Beach-Glendale MD</td>\n",
       "      <td>Metropolitan Area</td>\n",
       "      <td>1990</td>\n",
       "      <td>Annual</td>\n",
       "      <td>N</td>\n",
       "      <td>Final</td>\n",
       "      <td>4526600</td>\n",
       "      <td>4260700</td>\n",
       "      <td>265800</td>\n",
       "      <td>5.9</td>\n",
       "    </tr>\n",
       "    <tr>\n",
       "      <th>2</th>\n",
       "      <td>Los Angeles County</td>\n",
       "      <td>County</td>\n",
       "      <td>1990</td>\n",
       "      <td>Annual</td>\n",
       "      <td>N</td>\n",
       "      <td>Final</td>\n",
       "      <td>4526600</td>\n",
       "      <td>4260700</td>\n",
       "      <td>265800</td>\n",
       "      <td>5.9</td>\n",
       "    </tr>\n",
       "    <tr>\n",
       "      <th>3</th>\n",
       "      <td>Alameda County</td>\n",
       "      <td>County</td>\n",
       "      <td>1990</td>\n",
       "      <td>Annual</td>\n",
       "      <td>N</td>\n",
       "      <td>Final</td>\n",
       "      <td>678000</td>\n",
       "      <td>650600</td>\n",
       "      <td>27500</td>\n",
       "      <td>4.0</td>\n",
       "    </tr>\n",
       "    <tr>\n",
       "      <th>4</th>\n",
       "      <td>Alpine County</td>\n",
       "      <td>County</td>\n",
       "      <td>1990</td>\n",
       "      <td>Annual</td>\n",
       "      <td>N</td>\n",
       "      <td>Final</td>\n",
       "      <td>380</td>\n",
       "      <td>340</td>\n",
       "      <td>40</td>\n",
       "      <td>9.6</td>\n",
       "    </tr>\n",
       "  </tbody>\n",
       "</table>\n",
       "</div>"
      ],
      "text/plain": [
       "                            Area Name          Area Type  Year   Month  \\\n",
       "0                          California              State  1990  Annual   \n",
       "1  Los Angeles-Long Beach-Glendale MD  Metropolitan Area  1990  Annual   \n",
       "2                  Los Angeles County             County  1990  Annual   \n",
       "3                      Alameda County             County  1990  Annual   \n",
       "4                       Alpine County             County  1990  Annual   \n",
       "\n",
       "  Seasonally Adjusted(Y/N) Status  Labor Force  Employment  Unemployment  \\\n",
       "0                        N  Final     15176300    14301800        874500   \n",
       "1                        N  Final      4526600     4260700        265800   \n",
       "2                        N  Final      4526600     4260700        265800   \n",
       "3                        N  Final       678000      650600         27500   \n",
       "4                        N  Final          380         340            40   \n",
       "\n",
       "   Unemployment Rate  \n",
       "0                5.8  \n",
       "1                5.9  \n",
       "2                5.9  \n",
       "3                4.0  \n",
       "4                9.6  "
      ]
     },
     "execution_count": 4,
     "metadata": {},
     "output_type": "execute_result"
    }
   ],
   "source": [
    "df = pd.read_csv('s3://ia340-fall-2025-e115/laborforceandunemployment_annual_2025421.csv')\n",
    "df.head() "
   ]
  },
  {
   "cell_type": "code",
   "execution_count": 5,
   "id": "d23690b6-8a92-49ae-a546-e55830abe75c",
   "metadata": {},
   "outputs": [
    {
     "name": "stdout",
     "output_type": "stream",
     "text": [
      "Requirement already satisfied: pip in /home/ec2-user/anaconda3/envs/python3/lib/python3.10/site-packages (25.2)\n",
      "Requirement already satisfied: setuptools in /home/ec2-user/anaconda3/envs/python3/lib/python3.10/site-packages (80.9.0)\n",
      "Requirement already satisfied: wheel in /home/ec2-user/anaconda3/envs/python3/lib/python3.10/site-packages (0.45.1)\n",
      "Note: you may need to restart the kernel to use updated packages.\n"
     ]
    }
   ],
   "source": [
    "pip install -U pip setuptools wheel"
   ]
  },
  {
   "cell_type": "code",
   "execution_count": 6,
   "id": "8e4a973f-4d11-4e6a-8377-7bbb56367de8",
   "metadata": {},
   "outputs": [
    {
     "name": "stdout",
     "output_type": "stream",
     "text": [
      "Requirement already satisfied: tiktoken>=0.7.0 in /home/ec2-user/anaconda3/envs/python3/lib/python3.10/site-packages (0.11.0)\n",
      "Requirement already satisfied: regex>=2022.1.18 in /home/ec2-user/anaconda3/envs/python3/lib/python3.10/site-packages (from tiktoken>=0.7.0) (2025.9.18)\n",
      "Requirement already satisfied: requests>=2.26.0 in /home/ec2-user/anaconda3/envs/python3/lib/python3.10/site-packages (from tiktoken>=0.7.0) (2.32.5)\n",
      "Requirement already satisfied: charset_normalizer<4,>=2 in /home/ec2-user/anaconda3/envs/python3/lib/python3.10/site-packages (from requests>=2.26.0->tiktoken>=0.7.0) (3.4.3)\n",
      "Requirement already satisfied: idna<4,>=2.5 in /home/ec2-user/anaconda3/envs/python3/lib/python3.10/site-packages (from requests>=2.26.0->tiktoken>=0.7.0) (3.10)\n",
      "Requirement already satisfied: urllib3<3,>=1.21.1 in /home/ec2-user/anaconda3/envs/python3/lib/python3.10/site-packages (from requests>=2.26.0->tiktoken>=0.7.0) (2.5.0)\n",
      "Requirement already satisfied: certifi>=2017.4.17 in /home/ec2-user/anaconda3/envs/python3/lib/python3.10/site-packages (from requests>=2.26.0->tiktoken>=0.7.0) (2025.8.3)\n",
      "Note: you may need to restart the kernel to use updated packages.\n"
     ]
    }
   ],
   "source": [
    "pip install --only-binary=:all: \"tiktoken>=0.7.0\""
   ]
  },
  {
   "cell_type": "code",
   "execution_count": 7,
   "id": "691c3a6d-8c9d-4c8c-a7ee-1bf5c1ea519e",
   "metadata": {},
   "outputs": [
    {
     "name": "stdout",
     "output_type": "stream",
     "text": [
      "Note: you may need to restart the kernel to use updated packages.\n"
     ]
    }
   ],
   "source": [
    "pip install \"jupyter-ai-magics[all]\" -q"
   ]
  },
  {
   "cell_type": "code",
   "execution_count": 8,
   "id": "878190de-25c4-48d3-9dcd-858afb180681",
   "metadata": {},
   "outputs": [],
   "source": [
    "! pip install jupyter-ai-magics[all] -q"
   ]
  },
  {
   "cell_type": "code",
   "execution_count": 9,
   "id": "4d7f9f74-fc0e-40ea-a7a0-df6c7d2ed70e",
   "metadata": {},
   "outputs": [],
   "source": [
    "import warnings\n",
    "warnings.simplefilter('ignore')"
   ]
  },
  {
   "cell_type": "code",
   "execution_count": 10,
   "id": "65aee9aa-586b-4922-96c0-c49cba79fef6",
   "metadata": {},
   "outputs": [],
   "source": [
    "import os\n",
    "os.environ[\"OPENAI_API_KEY\"] = get_secret('openai')['api_key']"
   ]
  },
  {
   "cell_type": "markdown",
   "id": "ac6d801e-629e-4523-b313-44b1a26f5a41",
   "metadata": {},
   "source": [
    "## Clean"
   ]
  },
  {
   "cell_type": "markdown",
   "id": "bcbaaaa2-c0d5-4044-b053-417601f51893",
   "metadata": {},
   "source": [
    "**Description:** Using the Jupyter AI magics, I was able to properly clean my dataset by dropping any null values, any duplicate values, converting the 'Year' datetime to a proper numeric data type, check for validity, specifically for unemployemnt rate staying between 0-100, answer both parts of the research question by grouping data only from California, group the data by year, allowing to see growth or loss since 1990 to 2024, identify which years had the lowest and the highest unemployment rate with min() and max(), and lastly print the results.\n",
    "**What Changed:** Their were no null values as well as duplicates beforehand. The datetime was switched to match a more numeric value, keeping it all the same. The areas of California were grouped by year under unemployment to change having just area types, and lastly showing the overall mean of Californias unemployment since 1990."
   ]
  },
  {
   "cell_type": "code",
   "execution_count": 11,
   "id": "39be291e-2c6a-43e3-8aa7-72b728fd8c0f",
   "metadata": {},
   "outputs": [],
   "source": [
    "%load_ext jupyter_ai_magics"
   ]
  },
  {
   "cell_type": "code",
   "execution_count": 16,
   "id": "7d417762-eca7-443d-88b5-8443f0c88fa0",
   "metadata": {},
   "outputs": [
    {
     "data": {
      "text/html": [
       "AI generated code inserted below &#11015;&#65039;"
      ],
      "text/plain": [
       "<IPython.core.display.HTML object>"
      ]
     },
     "execution_count": 16,
     "metadata": {
      "text/html": {
       "jupyter_ai": {
        "model_id": "gpt-4",
        "provider_id": "openai-chat"
       }
      }
     },
     "output_type": "execute_result"
    }
   ],
   "source": [
    "%%ai gpt4 -f code\n",
    "Generate the python code to clean the data, {df}, to answer my research question 'How has Californias unemployment \n",
    "statistics, by local areas, changed from 1990 to 2024? Which years showed the highest and lowest employment rates?'\n",
    "Show basic profiles such as .info(), .describe().\n",
    "Handle missing values (drop/impute).\n",
    "Remove duplicates if present. \n",
    "Fix datatypes (e.g., parse dates, numeric fields).\n",
    "Lastly, check for validity (e.g., ranges, categories)\n",
    "csv file is 's3://ia340-fall-2025-e115/laborforceandunemployment_annual_2025421.csv' \n",
    "use 'df', instead of data"
   ]
  },
  {
   "cell_type": "code",
   "execution_count": 17,
   "id": "98cd7ac6-89db-40ca-b71f-c7fd01fd80a5",
   "metadata": {},
   "outputs": [
    {
     "name": "stdout",
     "output_type": "stream",
     "text": [
      "<class 'pandas.core.frame.DataFrame'>\n",
      "RangeIndex: 17048 entries, 0 to 17047\n",
      "Data columns (total 10 columns):\n",
      " #   Column                    Non-Null Count  Dtype  \n",
      "---  ------                    --------------  -----  \n",
      " 0   Area Name                 17048 non-null  object \n",
      " 1   Area Type                 17048 non-null  object \n",
      " 2   Year                      17048 non-null  int64  \n",
      " 3   Month                     17048 non-null  object \n",
      " 4   Seasonally Adjusted(Y/N)  17048 non-null  object \n",
      " 5   Status                    17048 non-null  object \n",
      " 6   Labor Force               17048 non-null  int64  \n",
      " 7   Employment                17048 non-null  int64  \n",
      " 8   Unemployment              17048 non-null  int64  \n",
      " 9   Unemployment Rate         17048 non-null  float64\n",
      "dtypes: float64(1), int64(4), object(5)\n",
      "memory usage: 1.3+ MB\n",
      "None\n",
      "               Year   Labor Force    Employment  Unemployment  \\\n",
      "count  17048.000000  1.704800e+04  1.704800e+04  1.704800e+04   \n",
      "mean    2015.215744  1.230955e+05  1.144664e+05  8.627932e+03   \n",
      "std        6.944764  8.781322e+05  8.170570e+05  6.486331e+04   \n",
      "min     1990.000000  0.000000e+00  0.000000e+00  0.000000e+00   \n",
      "25%     2012.000000  1.437500e+03  1.300000e+03  1.000000e+02   \n",
      "50%     2016.000000  7.175000e+03  6.600000e+03  5.000000e+02   \n",
      "75%     2020.000000  3.342500e+04  3.120000e+04  2.300000e+03   \n",
      "max     2024.000000  1.964410e+07  1.862190e+07  2.267400e+06   \n",
      "\n",
      "       Unemployment Rate  \n",
      "count       17048.000000  \n",
      "mean            8.381282  \n",
      "std             7.195314  \n",
      "min             0.000000  \n",
      "25%             4.100000  \n",
      "50%             6.700000  \n",
      "75%            10.700000  \n",
      "max           100.000000  \n"
     ]
    }
   ],
   "source": [
    "import pandas as pd\n",
    "\n",
    "df = pd.read_csv('s3://ia340-fall-2025-e115/laborforceandunemployment_annual_2025421.csv')\n",
    "\n",
    "print(df.info())\n",
    "print(df.describe())\n",
    "\n",
    "df = df.dropna()\n",
    "\n",
    "df = df.drop_duplicates()\n",
    "\n",
    "df['Year'] = df['Year'].astype(int)\n",
    "df['Labor Force'] = pd.to_numeric(df['Labor Force'], errors='coerce')\n",
    "df['Employment'] = pd.to_numeric(df['Employment'], errors='coerce')\n",
    "df['Unemployment'] = pd.to_numeric(df['Unemployment'], errors='coerce')\n",
    "df['Unemployment Rate'] = pd.to_numeric(df['Unemployment Rate'], errors='coerce')\n",
    "\n",
    "df = df[df['Year'].between(1990,2024)]\n",
    "df = df[df['Area Name'].str.contains('California')]\n",
    "\n",
    "df.to_csv('cleaned_laborforceandunemployment_df.csv', index=False)"
   ]
  },
  {
   "cell_type": "markdown",
   "id": "fc64c95d-3914-470e-9417-489bb829fc1c",
   "metadata": {},
   "source": [
    "## Process/ Aggregate "
   ]
  },
  {
   "cell_type": "markdown",
   "id": "273c6a38-4b78-479a-b6ba-8a6900b18d27",
   "metadata": {},
   "source": [
    "**Description:** The Jupyter Ai generated the code for creating a groupby. for my research question. The groupby. generated assists my research question by making the sum, mean and max of each area type by year. This assists my research question by showing which states possibly have the highest population growths, as well as showing the number of the highest populated area within the state. This can help identify unemployment, whether it had a growth or decline. "
   ]
  },
  {
   "cell_type": "code",
   "execution_count": 22,
   "id": "b3d463b7-6810-4f74-abbd-57c5ec7c5530",
   "metadata": {},
   "outputs": [
    {
     "data": {
      "text/html": [
       "AI generated code inserted below &#11015;&#65039;"
      ],
      "text/plain": [
       "<IPython.core.display.HTML object>"
      ]
     },
     "execution_count": 22,
     "metadata": {
      "text/html": {
       "jupyter_ai": {
        "model_id": "gpt-4",
        "provider_id": "openai-chat"
       }
      }
     },
     "output_type": "execute_result"
    }
   ],
   "source": [
    "%%ai gpt4 -f code\n",
    "Create python code to create a group by., {df}, and show the results. "
   ]
  },
  {
   "cell_type": "code",
   "execution_count": 23,
   "id": "9d4ead3f-2bb5-48b1-b1dd-b9336006b15b",
   "metadata": {},
   "outputs": [
    {
     "name": "stdout",
     "output_type": "stream",
     "text": [
      "Year  Area Type       \n",
      "1990  State               15176300\n",
      "1991  State               15127400\n",
      "1992  State               15314800\n",
      "1993  State               15258800\n",
      "1994  State               15253900\n",
      "1995  State               15249600\n",
      "1996  State               15419500\n",
      "1997  State               15800900\n",
      "1998  State               16163200\n",
      "1999  State               16430400\n",
      "2000  State               16869900\n",
      "2001  State               17145300\n",
      "2002  State               17295500\n",
      "2003  State               17331600\n",
      "2004  State               17450100\n",
      "2005  State               17635600\n",
      "2006  State               17786000\n",
      "2007  State               18068900\n",
      "2008  State               18367400\n",
      "2009  State               18430800\n",
      "2010  State               18363500\n",
      "      Sub-County Place        5600\n",
      "2011  State               18357600\n",
      "      Sub-County Place        5700\n",
      "2012  State               18478700\n",
      "      Sub-County Place        6200\n",
      "2013  State               18584200\n",
      "      Sub-County Place        5700\n",
      "2014  State               18697600\n",
      "      Sub-County Place        5600\n",
      "2015  State               18846600\n",
      "      Sub-County Place        5600\n",
      "2016  State               19045000\n",
      "      Sub-County Place        5000\n",
      "2017  State               19205100\n",
      "      Sub-County Place        4900\n",
      "2018  State               19306500\n",
      "      Sub-County Place        4500\n",
      "2019  State               19420100\n",
      "      Sub-County Place        4900\n",
      "2020  State               18956600\n",
      "      Sub-County Place        5200\n",
      "2021  State               18954600\n",
      "      Sub-County Place        5500\n",
      "2022  State               19218300\n",
      "      Sub-County Place        5500\n",
      "2023  State               19471000\n",
      "      Sub-County Place        5800\n",
      "2024  State               19644100\n",
      "      Sub-County Place        5900\n",
      "Name: Labor Force, dtype: int64\n",
      "Year  Area Type       \n",
      "1990  State                874500.0\n",
      "1991  State               1180800.0\n",
      "1992  State               1436200.0\n",
      "1993  State               1454700.0\n",
      "1994  State               1322000.0\n",
      "1995  State               1204400.0\n",
      "1996  State               1133100.0\n",
      "1997  State               1011300.0\n",
      "1998  State                962600.0\n",
      "1999  State                865200.0\n",
      "2000  State                830100.0\n",
      "2001  State                936700.0\n",
      "2002  State               1167300.0\n",
      "2003  State               1194600.0\n",
      "2004  State               1086700.0\n",
      "2005  State                949900.0\n",
      "2006  State                867200.0\n",
      "2007  State                963500.0\n",
      "2008  State               1332400.0\n",
      "2009  State               2113000.0\n",
      "2010  State               2267400.0\n",
      "      Sub-County Place       1700.0\n",
      "2011  State               2154700.0\n",
      "      Sub-County Place       1600.0\n",
      "2012  State               1920800.0\n",
      "      Sub-County Place       1600.0\n",
      "2013  State               1678700.0\n",
      "      Sub-County Place       1300.0\n",
      "2014  State               1414700.0\n",
      "      Sub-County Place       1200.0\n",
      "2015  State               1175800.0\n",
      "      Sub-County Place       1100.0\n",
      "2016  State               1049000.0\n",
      "      Sub-County Place       1100.0\n",
      "2017  State                926900.0\n",
      "      Sub-County Place       1000.0\n",
      "2018  State                821300.0\n",
      "      Sub-County Place        700.0\n",
      "2019  State                798200.0\n",
      "      Sub-County Place        800.0\n",
      "2020  State               1916800.0\n",
      "      Sub-County Place       1200.0\n",
      "2021  State               1389700.0\n",
      "      Sub-County Place       1100.0\n",
      "2022  State                824400.0\n",
      "      Sub-County Place        800.0\n",
      "2023  State                919200.0\n",
      "      Sub-County Place       1000.0\n",
      "2024  State               1043100.0\n",
      "      Sub-County Place       1100.0\n",
      "Name: Unemployment, dtype: float64\n",
      "Year  Area Type       \n",
      "1990  State               14301800\n",
      "1991  State               13946700\n",
      "1992  State               13878500\n",
      "1993  State               13804100\n",
      "1994  State               13931900\n",
      "1995  State               14045200\n",
      "1996  State               14286400\n",
      "1997  State               14789600\n",
      "1998  State               15200600\n",
      "1999  State               15565100\n",
      "2000  State               16039800\n",
      "2001  State               16208500\n",
      "2002  State               16128300\n",
      "2003  State               16137000\n",
      "2004  State               16363400\n",
      "2005  State               16685800\n",
      "2006  State               16918800\n",
      "2007  State               17105400\n",
      "2008  State               17034900\n",
      "2009  State               16317800\n",
      "2010  State               16096100\n",
      "      Sub-County Place        3900\n",
      "2011  State               16202900\n",
      "      Sub-County Place        4100\n",
      "2012  State               16558000\n",
      "      Sub-County Place        4600\n",
      "2013  State               16905500\n",
      "      Sub-County Place        4400\n",
      "2014  State               17282900\n",
      "      Sub-County Place        4400\n",
      "2015  State               17670900\n",
      "      Sub-County Place        4400\n",
      "2016  State               17996100\n",
      "      Sub-County Place        4000\n",
      "2017  State               18278300\n",
      "      Sub-County Place        4000\n",
      "2018  State               18485300\n",
      "      Sub-County Place        3800\n",
      "2019  State               18621900\n",
      "      Sub-County Place        4100\n",
      "2020  State               17039800\n",
      "      Sub-County Place        4000\n",
      "2021  State               17564900\n",
      "      Sub-County Place        4400\n",
      "2022  State               18393900\n",
      "      Sub-County Place        4700\n",
      "2023  State               18551800\n",
      "      Sub-County Place        4700\n",
      "2024  State               18600900\n",
      "      Sub-County Place        4800\n",
      "Name: Employment, dtype: int64\n"
     ]
    }
   ],
   "source": [
    "# Create groupby object\n",
    "grouped_df = df.groupby(['Year','Area Type'])\n",
    "\n",
    "# Display groupby results\n",
    "print(grouped_df['Labor Force'].sum())\n",
    "print(grouped_df['Unemployment'].mean())\n",
    "print(grouped_df['Employment'].max())"
   ]
  },
  {
   "cell_type": "markdown",
   "id": "f590a32c-bb73-460b-9f61-dcd6c9f6710c",
   "metadata": {},
   "source": [
    "## Query"
   ]
  },
  {
   "cell_type": "markdown",
   "id": "ddb3fe88-3c48-4b24-b4a0-81b4ac9d1b64",
   "metadata": {},
   "source": [
    "**Description:** The filter generated by Jupyter Ai is meaningful because it shows all the years in the dataset with California's statistics and by looking at it shows an interpretable trend with unemployment rate, highlighting the last half of the years has the highest rates of unemployment. "
   ]
  },
  {
   "cell_type": "code",
   "execution_count": 25,
   "id": "9381a521-c942-4ee2-bb80-f34fa2d8056e",
   "metadata": {},
   "outputs": [
    {
     "data": {
      "text/html": [
       "AI generated code inserted below &#11015;&#65039;"
      ],
      "text/plain": [
       "<IPython.core.display.HTML object>"
      ]
     },
     "execution_count": 25,
     "metadata": {
      "text/html": {
       "jupyter_ai": {
        "model_id": "gpt-4",
        "provider_id": "openai-chat"
       }
      }
     },
     "output_type": "execute_result"
    }
   ],
   "source": [
    "%%ai gpt4 -f code\n",
    "Create the python code creating a meaningful filter with values only from the state 'California', using the dates (1990-01-01) and (2024-12-31), using {df}, and \n",
    "show the results in a Dataframe"
   ]
  },
  {
   "cell_type": "code",
   "execution_count": 26,
   "id": "618c2842-3d71-4f1f-ba4f-7f08414b4242",
   "metadata": {},
   "outputs": [
    {
     "name": "stdout",
     "output_type": "stream",
     "text": [
      "        Area Name Area Type  Year   Month Seasonally Adjusted(Y/N) Status  \\\n",
      "0      California     State  1990  Annual                        N  Final   \n",
      "87     California     State  1991  Annual                        N  Final   \n",
      "174    California     State  1992  Annual                        N  Final   \n",
      "261    California     State  1993  Annual                        N  Final   \n",
      "348    California     State  1994  Annual                        N  Final   \n",
      "435    California     State  1995  Annual                        N  Final   \n",
      "522    California     State  1996  Annual                        N  Final   \n",
      "609    California     State  1997  Annual                        N  Final   \n",
      "696    California     State  1998  Annual                        N  Final   \n",
      "783    California     State  1999  Annual                        N  Final   \n",
      "870    California     State  2000  Annual                        N  Final   \n",
      "957    California     State  2001  Annual                        N  Final   \n",
      "1044   California     State  2002  Annual                        N  Final   \n",
      "1131   California     State  2003  Annual                        N  Final   \n",
      "1218   California     State  2004  Annual                        N  Final   \n",
      "1305   California     State  2005  Annual                        N  Final   \n",
      "1392   California     State  2006  Annual                        N  Final   \n",
      "1479   California     State  2007  Annual                        N  Final   \n",
      "1566   California     State  2008  Annual                        N  Final   \n",
      "1653   California     State  2009  Annual                        N  Final   \n",
      "2673   California     State  2010  Annual                        N  Final   \n",
      "3693   California     State  2011  Annual                        N  Final   \n",
      "4712   California     State  2012  Annual                        N  Final   \n",
      "5732   California     State  2013  Annual                        N  Final   \n",
      "6752   California     State  2014  Annual                        N  Final   \n",
      "7772   California     State  2015  Annual                        N  Final   \n",
      "7859   California     State  2016  Annual                        N  Final   \n",
      "8880   California     State  2017  Annual                        N  Final   \n",
      "9901   California     State  2018  Annual                        N  Final   \n",
      "10922  California     State  2019  Annual                        N  Final   \n",
      "11943  California     State  2020  Annual                        N  Final   \n",
      "12964  California     State  2021  Annual                        N  Final   \n",
      "13985  California     State  2022  Annual                        N  Final   \n",
      "15006  California     State  2023  Annual                        N  Final   \n",
      "16027  California     State  2024  Annual                        N  Final   \n",
      "\n",
      "       Labor Force  Employment  Unemployment  Unemployment Rate  \n",
      "0         15176300    14301800        874500                5.8  \n",
      "87        15127400    13946700       1180800                7.8  \n",
      "174       15314800    13878500       1436200                9.4  \n",
      "261       15258800    13804100       1454700                9.5  \n",
      "348       15253900    13931900       1322000                8.7  \n",
      "435       15249600    14045200       1204400                7.9  \n",
      "522       15419500    14286400       1133100                7.3  \n",
      "609       15800900    14789600       1011300                6.4  \n",
      "696       16163200    15200600        962600                6.0  \n",
      "783       16430400    15565100        865200                5.3  \n",
      "870       16869900    16039800        830100                4.9  \n",
      "957       17145300    16208500        936700                5.5  \n",
      "1044      17295500    16128300       1167300                6.7  \n",
      "1131      17331600    16137000       1194600                6.9  \n",
      "1218      17450100    16363400       1086700                6.2  \n",
      "1305      17635600    16685800        949900                5.4  \n",
      "1392      17786000    16918800        867200                4.9  \n",
      "1479      18068900    17105400        963500                5.3  \n",
      "1566      18367400    17034900       1332400                7.3  \n",
      "1653      18430800    16317800       2113000               11.5  \n",
      "2673      18363500    16096100       2267400               12.3  \n",
      "3693      18357600    16202900       2154700               11.7  \n",
      "4712      18478700    16558000       1920800               10.4  \n",
      "5732      18584200    16905500       1678700                9.0  \n",
      "6752      18697600    17282900       1414700                7.6  \n",
      "7772      18846600    17670900       1175800                6.2  \n",
      "7859      19045000    17996100       1049000                5.5  \n",
      "8880      19205100    18278300        926900                4.8  \n",
      "9901      19306500    18485300        821300                4.3  \n",
      "10922     19420100    18621900        798200                4.1  \n",
      "11943     18956600    17039800       1916800               10.1  \n",
      "12964     18954600    17564900       1389700                7.3  \n",
      "13985     19218300    18393900        824400                4.3  \n",
      "15006     19471000    18551800        919200                4.7  \n",
      "16027     19644100    18600900       1043100                5.3  \n"
     ]
    }
   ],
   "source": [
    "# Create filter\n",
    "mask = ((df['Area Name'] == 'California') & \n",
    "        (df['Year'] >= 1990) & \n",
    "        (df['Year'] <= 2024) & \n",
    "        (df['Area Type'] == 'State'))\n",
    "\n",
    "# Apply filter to dataframe\n",
    "filtered_df = df[mask]\n",
    "\n",
    "# Display dataframe\n",
    "print(filtered_df)"
   ]
  },
  {
   "cell_type": "markdown",
   "id": "59c9b862-add2-4cb4-a274-532d8290b9a1",
   "metadata": {},
   "source": [
    "## Visualize"
   ]
  },
  {
   "cell_type": "markdown",
   "id": "8f018eac-da1b-4a54-8479-10f83b8ebb9f",
   "metadata": {},
   "source": [
    "**Description:** Each graph is similar in nature, however, the dual-axis chart goes further into showing the growth of California. With the first graph, using Jupyter AI, the code generated shows the enemployemnt rate from 1990 to 2024. As indicated on the graph, there were three major spikes showing the highest unemployment rates in years 1993, 2010, and 2020. The highest being 2010 and follow that would be the lowest point of unemployment in roughly 2018, showing signiifcant growth for the work force. In graph 2, using Jupyter AI again, the growth of the labor force is shown on a visual scale comparing to the unemployment numbers in the millions. As you can see, there was a large spike in the labor force roughly the same year the unemployment numbers hit their lowest between 1990 and 2024. To further my research question, I could look into the events of California's history and locate what caused a drop in unemployment in 2018, as well as what three events caused the highest unemployments. "
   ]
  },
  {
   "cell_type": "markdown",
   "id": "9efd8135-4fad-4011-820e-2a426e78e256",
   "metadata": {},
   "source": [
    "### Graph #1"
   ]
  },
  {
   "cell_type": "code",
   "execution_count": 28,
   "id": "d2e80761-52b1-42a2-b62c-08725a994ef8",
   "metadata": {},
   "outputs": [
    {
     "data": {
      "text/html": [
       "AI generated code inserted below &#11015;&#65039;"
      ],
      "text/plain": [
       "<IPython.core.display.HTML object>"
      ]
     },
     "execution_count": 28,
     "metadata": {
      "text/html": {
       "jupyter_ai": {
        "model_id": "gpt-4",
        "provider_id": "openai-chat"
       }
      }
     },
     "output_type": "execute_result"
    }
   ],
   "source": [
    "%%ai gpt4 -f code\n",
    "Calculate the unemployment rate of 'California' with the data provided in {filtered_df}, \n",
    "use the filtered_df directly, and visualize the result on a line chart"
   ]
  },
  {
   "cell_type": "code",
   "execution_count": 29,
   "id": "b8cd13e7-f87d-4e2a-a674-14607f9778a5",
   "metadata": {},
   "outputs": [
    {
     "data": {
      "image/png": "[encoded data removed]",
      "text/plain": [
       "<Figure size 1000x600 with 1 Axes>"
      ]
     },
     "metadata": {},
     "output_type": "display_data"
    }
   ],
   "source": [
    "import matplotlib.pyplot as plt\n",
    "\n",
    "# Filter data for 'California' state\n",
    "filtered_df = df[df['Area Name'] == 'California']\n",
    "\n",
    "# Calculate unemployment rate\n",
    "filtered_df['Unemployment Rate'] = (filtered_df['Unemployment'] / filtered_df['Labor Force']) * 100\n",
    "\n",
    "# Visualize the unemployment rate over the years\n",
    "plt.figure(figsize=(10, 6))\n",
    "plt.plot(filtered_df['Year'], filtered_df['Unemployment Rate'])\n",
    "plt.xlabel('Year')\n",
    "plt.ylabel('Unemployment Rate (%)')\n",
    "plt.title('Unemployment Rate in California (1990-2024)')\n",
    "plt.grid()\n",
    "plt.show()"
   ]
  },
  {
   "cell_type": "markdown",
   "id": "ab29382b-07ea-457d-a390-caf963ca6cea",
   "metadata": {},
   "source": [
    "### Graph #2"
   ]
  },
  {
   "cell_type": "code",
   "execution_count": 36,
   "id": "421ae1e8-0504-45cf-8a1e-785772f54b15",
   "metadata": {},
   "outputs": [
    {
     "data": {
      "text/html": [
       "AI generated code inserted below &#11015;&#65039;"
      ],
      "text/plain": [
       "<IPython.core.display.HTML object>"
      ]
     },
     "execution_count": 36,
     "metadata": {
      "text/html": {
       "jupyter_ai": {
        "model_id": "gpt-4",
        "provider_id": "openai-chat"
       }
      }
     },
     "output_type": "execute_result"
    }
   ],
   "source": [
    "%%ai gpt4 -f code\n",
    "Calculate the labor force of 'California' with the data provided in {filtered_df}, as well as the unemployment for 'California',\n",
    "use the filtered_df directly, and visualize the result on a dual-axis chart. Indicate the axis on the left and right are in the millions, and add a legend"
   ]
  },
  {
   "cell_type": "code",
   "execution_count": 37,
   "id": "a3a6f7aa-8de2-47aa-ae5e-8f7ebe9f9ee2",
   "metadata": {},
   "outputs": [
    {
     "data": {
      "image/png": "[encoded data removed]",
      "text/plain": [
       "<Figure size 640x480 with 2 Axes>"
      ]
     },
     "metadata": {},
     "output_type": "display_data"
    }
   ],
   "source": [
    "import matplotlib.pyplot as plt\n",
    "\n",
    "# Filter data for 'California' state\n",
    "filtered_df = df[df['Area Name'] == 'California']\n",
    "\n",
    "# Get California labor force and unemployment data\n",
    "california_labor = filtered_df['Labor Force'] / 1000000\n",
    "california_unemployment = filtered_df['Unemployment'] / 1000000\n",
    "\n",
    "# Create dual-axis plot\n",
    "fig, ax1 = plt.subplots()\n",
    "\n",
    "color = 'tab:red'\n",
    "ax1.set_xlabel('Year')\n",
    "ax1.set_ylabel('Labor Force (in millions)', color=color)\n",
    "ax1.plot(filtered_df['Year'], california_labor, color=color, label='Labor Force')\n",
    "ax1.tick_params(axis='y', labelcolor=color)\n",
    "\n",
    "ax2 = ax1.twinx()  \n",
    "color = 'tab:blue'\n",
    "ax2.set_ylabel('Unemployment (in millions)', color=color)  \n",
    "ax2.plot(filtered_df['Year'], california_unemployment, color=color, label='Unemployment')\n",
    "ax2.tick_params(axis='y', labelcolor=color)\n",
    "\n",
    "ax1.legend(loc='upper left')\n",
    "ax2.legend(loc='upper right')\n",
    "\n",
    "fig.tight_layout()  \n",
    "plt.title('Labor Force and Unemployment in California (1990-2024)')\n",
    "plt.show()"
   ]
  }
 ],
 "metadata": {
  "kernelspec": {
   "display_name": "conda_python3",
   "language": "python",
   "name": "conda_python3"
  },
  "language_info": {
   "codemirror_mode": {
    "name": "ipython",
    "version": 3
   },
   "file_extension": ".py",
   "mimetype": "text/x-python",
   "name": "python",
   "nbconvert_exporter": "python",
   "pygments_lexer": "ipython3",
   "version": "3.10.18"
  }
 },
 "nbformat": 4,
 "nbformat_minor": 5
}
